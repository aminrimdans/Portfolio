{
 "cells": [
  {
   "cell_type": "markdown",
   "metadata": {},
   "source": [
    "# ML Implementation"
   ]
  },
  {
   "cell_type": "code",
   "execution_count": 1,
   "metadata": {},
   "outputs": [],
   "source": [
    "import import_ipynb\n",
    "from sklearn.model_selection import train_test_split\n",
    "from sklearn.neighbors import KNeighborsClassifier\n",
    "from sklearn.ensemble import RandomForestClassifier\n",
    "from sklearn.linear_model import LogisticRegression\n",
    "from sklearn.metrics import accuracy_score"
   ]
  },
  {
   "cell_type": "code",
   "execution_count": 2,
   "metadata": {},
   "outputs": [
    {
     "data": {
      "text/html": [
       "<div>\n",
       "<style scoped>\n",
       "    .dataframe tbody tr th:only-of-type {\n",
       "        vertical-align: middle;\n",
       "    }\n",
       "\n",
       "    .dataframe tbody tr th {\n",
       "        vertical-align: top;\n",
       "    }\n",
       "\n",
       "    .dataframe thead th {\n",
       "        text-align: right;\n",
       "    }\n",
       "</style>\n",
       "<table border=\"1\" class=\"dataframe\">\n",
       "  <thead>\n",
       "    <tr style=\"text-align: right;\">\n",
       "      <th></th>\n",
       "      <th>Recalling Firm Name</th>\n",
       "      <th>Product Type</th>\n",
       "      <th>Recalling Firm Country</th>\n",
       "      <th>Reason for Recall</th>\n",
       "      <th>Product Description</th>\n",
       "      <th>Event Classification</th>\n",
       "    </tr>\n",
       "  </thead>\n",
       "  <tbody>\n",
       "    <tr>\n",
       "      <th>0</th>\n",
       "      <td>ELITE CONFECTIONERY LTD</td>\n",
       "      <td>0.0</td>\n",
       "      <td>0.0</td>\n",
       "      <td>Potential contamination with Salmonella</td>\n",
       "      <td>Elite Hazelnut &amp; Almond Milk Chocolate Bar Net...</td>\n",
       "      <td>1</td>\n",
       "    </tr>\n",
       "    <tr>\n",
       "      <th>1</th>\n",
       "      <td>ELITE CONFECTIONERY LTD</td>\n",
       "      <td>0.0</td>\n",
       "      <td>0.0</td>\n",
       "      <td>Potential contamination with Salmonella</td>\n",
       "      <td>ELITE MILK CHOCOLATE BAR WITH STRAWBERRY CREAM...</td>\n",
       "      <td>1</td>\n",
       "    </tr>\n",
       "    <tr>\n",
       "      <th>2</th>\n",
       "      <td>ELITE CONFECTIONERY LTD</td>\n",
       "      <td>0.0</td>\n",
       "      <td>0.0</td>\n",
       "      <td>Potential contamination with Salmonella</td>\n",
       "      <td>ELITE POPPING ROCKS MILK CHOCOLATE BAR UPC:815...</td>\n",
       "      <td>1</td>\n",
       "    </tr>\n",
       "    <tr>\n",
       "      <th>3</th>\n",
       "      <td>ELITE CONFECTIONERY LTD</td>\n",
       "      <td>0.0</td>\n",
       "      <td>0.0</td>\n",
       "      <td>Potential contamination with Salmonella</td>\n",
       "      <td>ELITE WHITE CHOCOLATE BAR\\tUPC:815871011471 &amp; ...</td>\n",
       "      <td>1</td>\n",
       "    </tr>\n",
       "    <tr>\n",
       "      <th>4</th>\n",
       "      <td>ELITE CONFECTIONERY LTD</td>\n",
       "      <td>0.0</td>\n",
       "      <td>0.0</td>\n",
       "      <td>Potential contamination with Salmonella</td>\n",
       "      <td>ELITE MILK CHOCOLATE WITH BERRY FLAVOR TRUFFLE...</td>\n",
       "      <td>1</td>\n",
       "    </tr>\n",
       "  </tbody>\n",
       "</table>\n",
       "</div>"
      ],
      "text/plain": [
       "       Recalling Firm Name  Product Type  Recalling Firm Country  \\\n",
       "0  ELITE CONFECTIONERY LTD           0.0                     0.0   \n",
       "1  ELITE CONFECTIONERY LTD           0.0                     0.0   \n",
       "2  ELITE CONFECTIONERY LTD           0.0                     0.0   \n",
       "3  ELITE CONFECTIONERY LTD           0.0                     0.0   \n",
       "4  ELITE CONFECTIONERY LTD           0.0                     0.0   \n",
       "\n",
       "                         Reason for Recall  \\\n",
       "0  Potential contamination with Salmonella   \n",
       "1  Potential contamination with Salmonella   \n",
       "2  Potential contamination with Salmonella   \n",
       "3  Potential contamination with Salmonella   \n",
       "4  Potential contamination with Salmonella   \n",
       "\n",
       "                                 Product Description  Event Classification  \n",
       "0  Elite Hazelnut & Almond Milk Chocolate Bar Net...                     1  \n",
       "1  ELITE MILK CHOCOLATE BAR WITH STRAWBERRY CREAM...                     1  \n",
       "2  ELITE POPPING ROCKS MILK CHOCOLATE BAR UPC:815...                     1  \n",
       "3  ELITE WHITE CHOCOLATE BAR\\tUPC:815871011471 & ...                     1  \n",
       "4  ELITE MILK CHOCOLATE WITH BERRY FLAVOR TRUFFLE...                     1  "
      ]
     },
     "execution_count": 2,
     "metadata": {},
     "output_type": "execute_result"
    }
   ],
   "source": [
    "# importing ETL_EDA notebook with magic command and assigning new df below\n",
    "%run /Users/aminrimdans/Documents/GitHub/Naveena_Daniel_Data606/EDA/ETL_EDA.ipynb\n",
    "#Github link to notebook above is https://github.com/NaveenaChodayy/TEAM_E_Data606/blob/main/EDA/ETL_EDA.ipynb\n",
    "df = new_df.copy() # copying file to avoid changing original\n",
    "df.head()"
   ]
  },
  {
   "cell_type": "code",
   "execution_count": 3,
   "metadata": {},
   "outputs": [],
   "source": [
    "features = df.iloc[:,:-1]\n",
    "y = 'Event Classification'\n",
    "X = ['Product Type', 'Recalling Firm Country']"
   ]
  },
  {
   "cell_type": "code",
   "execution_count": 4,
   "metadata": {},
   "outputs": [],
   "source": [
    "df_train, df_test = train_test_split(df,test_size=0.3,stratify=df['Event Classification'])"
   ]
  },
  {
   "cell_type": "code",
   "execution_count": 5,
   "metadata": {},
   "outputs": [],
   "source": [
    "X_train, X_test = df_train[X], df_test[X]\n",
    "y_train, y_test = df_train[y], df_test[y]"
   ]
  },
  {
   "cell_type": "code",
   "execution_count": 6,
   "metadata": {},
   "outputs": [],
   "source": [
    "knn = KNeighborsClassifier()\n",
    "rf = RandomForestClassifier()\n",
    "lr = LogisticRegression()"
   ]
  },
  {
   "cell_type": "code",
   "execution_count": 7,
   "metadata": {},
   "outputs": [],
   "source": [
    "knn_fit = knn.fit(X_train,y_train)\n",
    "rf_fit = rf.fit(X_train,y_train)\n",
    "lr_fit = lr.fit(X_train,y_train)"
   ]
  },
  {
   "cell_type": "code",
   "execution_count": 8,
   "metadata": {},
   "outputs": [],
   "source": [
    "knn_yhat = knn.predict(X_test)\n",
    "rf_yhat = rf.predict(X_test)\n",
    "lr_yhat = lr.predict(X_test)"
   ]
  },
  {
   "cell_type": "code",
   "execution_count": 10,
   "metadata": {},
   "outputs": [
    {
     "name": "stdout",
     "output_type": "stream",
     "text": [
      "KNN: 0.2462056616643929\n",
      "RandomForest: 0.7068980218281037\n",
      "LogisticRegression 0.7068980218281037\n"
     ]
    }
   ],
   "source": [
    "print('KNN:',accuracy_score(y_test, knn_yhat))\n",
    "print('RandomForest:', accuracy_score(y_test, rf_yhat))\n",
    "print('LogisticRegression', accuracy_score(y_test, lr_yhat))"
   ]
  },
  {
   "cell_type": "code",
   "execution_count": null,
   "metadata": {},
   "outputs": [],
   "source": []
  }
 ],
 "metadata": {
  "kernelspec": {
   "display_name": "Python 3.9.12 ('base')",
   "language": "python",
   "name": "python3"
  },
  "language_info": {
   "codemirror_mode": {
    "name": "ipython",
    "version": 3
   },
   "file_extension": ".py",
   "mimetype": "text/x-python",
   "name": "python",
   "nbconvert_exporter": "python",
   "pygments_lexer": "ipython3",
   "version": "3.9.12"
  },
  "orig_nbformat": 4,
  "vscode": {
   "interpreter": {
    "hash": "ce17c27415e5313cd54de49db3e23b7a90487c95f4edf3172481e42bb6d38379"
   }
  }
 },
 "nbformat": 4,
 "nbformat_minor": 2
}
