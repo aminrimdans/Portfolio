{
 "cells": [
  {
   "cell_type": "markdown",
   "metadata": {},
   "source": [
    "# ETL & EDA"
   ]
  },
  {
   "cell_type": "code",
   "execution_count": 1,
   "metadata": {},
   "outputs": [],
   "source": [
    "import pandas as pd\n",
    "import numpy as np\n",
    "from sklearn.preprocessing import OneHotEncoder\n",
    "encoder = OneHotEncoder()"
   ]
  },
  {
   "cell_type": "code",
   "execution_count": 2,
   "metadata": {},
   "outputs": [],
   "source": [
    "df = pd.read_csv('/Users/aminrimdans/Documents/GitHub/Naveena_Daniel_Data606/Exported_tables/recalls_raw_data.csv', low_memory=False)\n",
    "#Github link to data above is https://github.com/NaveenaChodayy/TEAM_E_Data606/blob/main/Exported_tables/recalls_raw_data.csv"
   ]
  },
  {
   "cell_type": "code",
   "execution_count": 3,
   "metadata": {},
   "outputs": [
    {
     "data": {
      "text/plain": [
       "((78184, 17),\n",
       " FEI Number                    object\n",
       " Recalling Firm Name           object\n",
       " Product Type                  object\n",
       " Product Classification        object\n",
       " Status                        object\n",
       " Distribution Pattern          object\n",
       " Recalling Firm City           object\n",
       " Recalling Firm State          object\n",
       " Recalling Firm Country        object\n",
       " Center Classification Date    object\n",
       " Reason for Recall             object\n",
       " Product Description           object\n",
       " Event ID                       int64\n",
       " Event Classification          object\n",
       " Product ID                     int64\n",
       " Center                        object\n",
       " Recall Details                object\n",
       " dtype: object)"
      ]
     },
     "execution_count": 3,
     "metadata": {},
     "output_type": "execute_result"
    }
   ],
   "source": [
    "#checking dataframe shape, column names, and dtypes\n",
    "df.shape,\\\n",
    "df.dtypes"
   ]
  },
  {
   "cell_type": "code",
   "execution_count": 4,
   "metadata": {},
   "outputs": [],
   "source": [
    "# df.head()"
   ]
  },
  {
   "cell_type": "code",
   "execution_count": 5,
   "metadata": {},
   "outputs": [
    {
     "data": {
      "text/plain": [
       "array(['Food/Cosmetics', 'Devices', 'Drugs', 'Veterinary', 'Biologics',\n",
       "       'Tobacco'], dtype=object)"
      ]
     },
     "execution_count": 5,
     "metadata": {},
     "output_type": "execute_result"
    }
   ],
   "source": [
    "#these are the unique product types the FDA regulates; it appears all product types have recalled products present in dataset\n",
    "df['Product Type'].unique()"
   ]
  },
  {
   "cell_type": "code",
   "execution_count": 6,
   "metadata": {},
   "outputs": [
    {
     "data": {
      "text/plain": [
       "FEI Number                    0\n",
       "Recalling Firm Name           0\n",
       "Product Type                  0\n",
       "Product Classification        0\n",
       "Status                        0\n",
       "Distribution Pattern          1\n",
       "Recalling Firm City           0\n",
       "Recalling Firm State          0\n",
       "Recalling Firm Country        0\n",
       "Center Classification Date    0\n",
       "Reason for Recall             0\n",
       "Product Description           0\n",
       "Event ID                      0\n",
       "Event Classification          0\n",
       "Product ID                    0\n",
       "Center                        0\n",
       "Recall Details                0\n",
       "dtype: int64"
      ]
     },
     "execution_count": 6,
     "metadata": {},
     "output_type": "execute_result"
    }
   ],
   "source": [
    "#checking for anomalies; veriable 'Distribution Pattern' has 1 null value\n",
    "df.isnull().sum()"
   ]
  },
  {
   "cell_type": "code",
   "execution_count": 7,
   "metadata": {},
   "outputs": [
    {
     "data": {
      "text/html": [
       "<div>\n",
       "<style scoped>\n",
       "    .dataframe tbody tr th:only-of-type {\n",
       "        vertical-align: middle;\n",
       "    }\n",
       "\n",
       "    .dataframe tbody tr th {\n",
       "        vertical-align: top;\n",
       "    }\n",
       "\n",
       "    .dataframe thead th {\n",
       "        text-align: right;\n",
       "    }\n",
       "</style>\n",
       "<table border=\"1\" class=\"dataframe\">\n",
       "  <thead>\n",
       "    <tr style=\"text-align: right;\">\n",
       "      <th></th>\n",
       "      <th>FEI Number</th>\n",
       "      <th>Recalling Firm Name</th>\n",
       "      <th>Product Type</th>\n",
       "      <th>Product Classification</th>\n",
       "      <th>Status</th>\n",
       "      <th>Distribution Pattern</th>\n",
       "      <th>Recalling Firm City</th>\n",
       "      <th>Recalling Firm State</th>\n",
       "      <th>Recalling Firm Country</th>\n",
       "      <th>Center Classification Date</th>\n",
       "      <th>Reason for Recall</th>\n",
       "      <th>Product Description</th>\n",
       "      <th>Event ID</th>\n",
       "      <th>Event Classification</th>\n",
       "      <th>Product ID</th>\n",
       "      <th>Center</th>\n",
       "      <th>Recall Details</th>\n",
       "    </tr>\n",
       "  </thead>\n",
       "  <tbody>\n",
       "    <tr>\n",
       "      <th>2148</th>\n",
       "      <td>3012046682</td>\n",
       "      <td>FlexDex Inc.</td>\n",
       "      <td>Devices</td>\n",
       "      <td>Class II</td>\n",
       "      <td>Ongoing</td>\n",
       "      <td>NaN</td>\n",
       "      <td>Brighton</td>\n",
       "      <td>Michigan</td>\n",
       "      <td>United States</td>\n",
       "      <td>2022-01-27</td>\n",
       "      <td>The firm is reinforcing the IFU instructions: ...</td>\n",
       "      <td>8mm FlexDex Needle Driver, Product Code FD-335 ND</td>\n",
       "      <td>89316</td>\n",
       "      <td>Class II</td>\n",
       "      <td>191253</td>\n",
       "      <td>CDRH</td>\n",
       "      <td>https://www.accessdata.fda.gov/scripts/ires/?P...</td>\n",
       "    </tr>\n",
       "  </tbody>\n",
       "</table>\n",
       "</div>"
      ],
      "text/plain": [
       "      FEI Number Recalling Firm Name Product Type Product Classification  \\\n",
       "2148  3012046682        FlexDex Inc.      Devices               Class II   \n",
       "\n",
       "       Status Distribution Pattern Recalling Firm City Recalling Firm State  \\\n",
       "2148  Ongoing                  NaN            Brighton             Michigan   \n",
       "\n",
       "     Recalling Firm Country Center Classification Date  \\\n",
       "2148          United States                 2022-01-27   \n",
       "\n",
       "                                      Reason for Recall  \\\n",
       "2148  The firm is reinforcing the IFU instructions: ...   \n",
       "\n",
       "                                    Product Description  Event ID  \\\n",
       "2148  8mm FlexDex Needle Driver, Product Code FD-335 ND     89316   \n",
       "\n",
       "     Event Classification  Product ID Center  \\\n",
       "2148             Class II      191253   CDRH   \n",
       "\n",
       "                                         Recall Details  \n",
       "2148  https://www.accessdata.fda.gov/scripts/ires/?P...  "
      ]
     },
     "execution_count": 7,
     "metadata": {},
     "output_type": "execute_result"
    }
   ],
   "source": [
    "#calling record with null value\n",
    "df[df['Distribution Pattern'].isna()]"
   ]
  },
  {
   "cell_type": "markdown",
   "metadata": {},
   "source": [
    "## EDA"
   ]
  },
  {
   "cell_type": "code",
   "execution_count": 8,
   "metadata": {},
   "outputs": [
    {
     "data": {
      "text/plain": [
       "Recalling Firm Name\n",
       "Zimmer Biomet, Inc.                              875\n",
       "Customed, Inc                                    682\n",
       "OneBlood, Inc.                                   664\n",
       "Garden-Fresh Foods, Inc.                         634\n",
       "Aidapak Services, LLC                            538\n",
       "                                                ... \n",
       "Joseph Shalhoub & Son, Inc.                        1\n",
       "JosNoe Medical, Inc.                               1\n",
       "Jones Natural Chews, Co., Inc.                     1\n",
       "Joliet Blood Plasma LLC dba Plasma Care, Inc.      1\n",
       "yoders country market                              1\n",
       "Name: Event ID, Length: 8403, dtype: int64"
      ]
     },
     "execution_count": 8,
     "metadata": {},
     "output_type": "execute_result"
    }
   ],
   "source": [
    "#finding firms with the highest recalls\n",
    "df.groupby('Recalling Firm Name')['Event ID'].count().sort_values(ascending=False)"
   ]
  },
  {
   "cell_type": "code",
   "execution_count": 9,
   "metadata": {},
   "outputs": [
    {
     "data": {
      "text/plain": [
       "array(['Class I', 'Class II', 'Class III'], dtype=object)"
      ]
     },
     "execution_count": 9,
     "metadata": {},
     "output_type": "execute_result"
    }
   ],
   "source": [
    "#unique values in Event Classification column match FDA classes of severity of recalls\n",
    "df['Event Classification'].unique()"
   ]
  },
  {
   "cell_type": "code",
   "execution_count": 10,
   "metadata": {},
   "outputs": [
    {
     "data": {
      "text/plain": [
       "Recalling Firm Name       Event Classification\n",
       "1 Epic, LLC               Class II                 4\n",
       "1908 Brands               Class II                 6\n",
       "2 Moms in the Raw, LLC    Class I                  1\n",
       "21ST CENTURY SNACK FOODS  Class II                 1\n",
       "21st Century Foods, Inc.  Class II                 1\n",
       "                                                  ..\n",
       "the Compounder            Class II                47\n",
       "ulrich medical USA Inc    Class II                 3\n",
       "weaver fundraising        Class II                 2\n",
       "www.blankterrmall.com     Class I                  1\n",
       "yoders country market     Class I                  1\n",
       "Name: Product Description, Length: 10023, dtype: int64"
      ]
     },
     "execution_count": 10,
     "metadata": {},
     "output_type": "execute_result"
    }
   ],
   "source": [
    "grouped_df = df.groupby(['Recalling Firm Name','Event Classification'])['Product Description'].count()\n",
    "grouped_df"
   ]
  },
  {
   "cell_type": "markdown",
   "metadata": {},
   "source": [
    "First grouping results in 8,403 rows (firm name & the number of recalls they had). Second grouping results in 10,023 rows since I counted 'product decsription'. Difference is ~2,000. Need new filter to see what firms are repeating."
   ]
  },
  {
   "cell_type": "code",
   "execution_count": 11,
   "metadata": {},
   "outputs": [
    {
     "data": {
      "text/plain": [
       "((16248, 17), (55269, 17), (6667, 17))"
      ]
     },
     "execution_count": 11,
     "metadata": {},
     "output_type": "execute_result"
    }
   ],
   "source": [
    "#filtering dataframe by class of Event Classification\n",
    "class1 = df[df['Event Classification']=='Class I']\n",
    "class2 = df[df['Event Classification']=='Class II']\n",
    "class3 = df[df['Event Classification']=='Class III']\n",
    "class1.shape, class2.shape, class3.shape"
   ]
  },
  {
   "cell_type": "code",
   "execution_count": 12,
   "metadata": {},
   "outputs": [],
   "source": [
    "#filter option for encoding event classification by class into binary format\n",
    "df['Class_I'] = np.where(df['Event Classification']=='Class I',1,0)\n",
    "df['Class_II'] = np.where(df['Event Classification']=='Class II',1,0)\n",
    "df['Class_III'] = np.where(df['Event Classification']=='Class III',1,0)"
   ]
  },
  {
   "cell_type": "code",
   "execution_count": 13,
   "metadata": {},
   "outputs": [
    {
     "data": {
      "text/plain": [
       "FEI Number                     8051\n",
       "Recalling Firm Name            8403\n",
       "Product Type                      6\n",
       "Product Classification            3\n",
       "Status                            3\n",
       "Distribution Pattern          16937\n",
       "Recalling Firm City            2950\n",
       "Recalling Firm State             54\n",
       "Recalling Firm Country           48\n",
       "Center Classification Date     2752\n",
       "Reason for Recall             25241\n",
       "Product Description           67579\n",
       "Event ID                      28501\n",
       "Event Classification              3\n",
       "Product ID                    78184\n",
       "Center                            6\n",
       "Recall Details                78184\n",
       "Class_I                           2\n",
       "Class_II                          2\n",
       "Class_III                         2\n",
       "dtype: int64"
      ]
     },
     "execution_count": 13,
     "metadata": {},
     "output_type": "execute_result"
    }
   ],
   "source": [
    "#deciding which features are categorical\n",
    "df.nunique()"
   ]
  },
  {
   "cell_type": "code",
   "execution_count": 14,
   "metadata": {},
   "outputs": [
    {
     "data": {
      "text/html": [
       "<div>\n",
       "<style scoped>\n",
       "    .dataframe tbody tr th:only-of-type {\n",
       "        vertical-align: middle;\n",
       "    }\n",
       "\n",
       "    .dataframe tbody tr th {\n",
       "        vertical-align: top;\n",
       "    }\n",
       "\n",
       "    .dataframe thead th {\n",
       "        text-align: right;\n",
       "    }\n",
       "</style>\n",
       "<table border=\"1\" class=\"dataframe\">\n",
       "  <thead>\n",
       "    <tr style=\"text-align: right;\">\n",
       "      <th></th>\n",
       "      <th>FEI Number</th>\n",
       "      <th>Recalling Firm Name</th>\n",
       "      <th>Product Type</th>\n",
       "      <th>Product Classification</th>\n",
       "      <th>Status</th>\n",
       "      <th>Distribution Pattern</th>\n",
       "      <th>Recalling Firm City</th>\n",
       "      <th>Recalling Firm State</th>\n",
       "      <th>Recalling Firm Country</th>\n",
       "      <th>Center Classification Date</th>\n",
       "      <th>Reason for Recall</th>\n",
       "      <th>Product Description</th>\n",
       "      <th>Event ID</th>\n",
       "      <th>Event Classification</th>\n",
       "      <th>Product ID</th>\n",
       "      <th>Center</th>\n",
       "      <th>Recall Details</th>\n",
       "      <th>Class_I</th>\n",
       "      <th>Class_II</th>\n",
       "      <th>Class_III</th>\n",
       "    </tr>\n",
       "  </thead>\n",
       "  <tbody>\n",
       "    <tr>\n",
       "      <th>0</th>\n",
       "      <td>3010452309</td>\n",
       "      <td>ELITE CONFECTIONERY LTD</td>\n",
       "      <td>Food/Cosmetics</td>\n",
       "      <td>Class I</td>\n",
       "      <td>Ongoing</td>\n",
       "      <td>Distributed in the US nationwide</td>\n",
       "      <td>Nof Ha-Galil</td>\n",
       "      <td>-</td>\n",
       "      <td>Israel</td>\n",
       "      <td>2022-06-04</td>\n",
       "      <td>Potential contamination with Salmonella</td>\n",
       "      <td>Elite Hazelnut &amp; Almond Milk Chocolate Bar Net...</td>\n",
       "      <td>90105</td>\n",
       "      <td>Class I</td>\n",
       "      <td>193404</td>\n",
       "      <td>CFSAN</td>\n",
       "      <td>https://www.accessdata.fda.gov/scripts/ires/?P...</td>\n",
       "      <td>1</td>\n",
       "      <td>0</td>\n",
       "      <td>0</td>\n",
       "    </tr>\n",
       "    <tr>\n",
       "      <th>1</th>\n",
       "      <td>3010452309</td>\n",
       "      <td>ELITE CONFECTIONERY LTD</td>\n",
       "      <td>Food/Cosmetics</td>\n",
       "      <td>Class I</td>\n",
       "      <td>Ongoing</td>\n",
       "      <td>Distributed in the US nationwide</td>\n",
       "      <td>Nof Ha-Galil</td>\n",
       "      <td>-</td>\n",
       "      <td>Israel</td>\n",
       "      <td>2022-06-04</td>\n",
       "      <td>Potential contamination with Salmonella</td>\n",
       "      <td>ELITE MILK CHOCOLATE BAR WITH STRAWBERRY CREAM...</td>\n",
       "      <td>90105</td>\n",
       "      <td>Class I</td>\n",
       "      <td>193406</td>\n",
       "      <td>CFSAN</td>\n",
       "      <td>https://www.accessdata.fda.gov/scripts/ires/?P...</td>\n",
       "      <td>1</td>\n",
       "      <td>0</td>\n",
       "      <td>0</td>\n",
       "    </tr>\n",
       "    <tr>\n",
       "      <th>2</th>\n",
       "      <td>3010452309</td>\n",
       "      <td>ELITE CONFECTIONERY LTD</td>\n",
       "      <td>Food/Cosmetics</td>\n",
       "      <td>Class I</td>\n",
       "      <td>Ongoing</td>\n",
       "      <td>Distributed in the US nationwide</td>\n",
       "      <td>Nof Ha-Galil</td>\n",
       "      <td>-</td>\n",
       "      <td>Israel</td>\n",
       "      <td>2022-06-04</td>\n",
       "      <td>Potential contamination with Salmonella</td>\n",
       "      <td>ELITE POPPING ROCKS MILK CHOCOLATE BAR UPC:815...</td>\n",
       "      <td>90105</td>\n",
       "      <td>Class I</td>\n",
       "      <td>193407</td>\n",
       "      <td>CFSAN</td>\n",
       "      <td>https://www.accessdata.fda.gov/scripts/ires/?P...</td>\n",
       "      <td>1</td>\n",
       "      <td>0</td>\n",
       "      <td>0</td>\n",
       "    </tr>\n",
       "    <tr>\n",
       "      <th>3</th>\n",
       "      <td>3010452309</td>\n",
       "      <td>ELITE CONFECTIONERY LTD</td>\n",
       "      <td>Food/Cosmetics</td>\n",
       "      <td>Class I</td>\n",
       "      <td>Ongoing</td>\n",
       "      <td>Distributed in the US nationwide</td>\n",
       "      <td>Nof Ha-Galil</td>\n",
       "      <td>-</td>\n",
       "      <td>Israel</td>\n",
       "      <td>2022-06-04</td>\n",
       "      <td>Potential contamination with Salmonella</td>\n",
       "      <td>ELITE WHITE CHOCOLATE BAR\\tUPC:815871011471 &amp; ...</td>\n",
       "      <td>90105</td>\n",
       "      <td>Class I</td>\n",
       "      <td>193408</td>\n",
       "      <td>CFSAN</td>\n",
       "      <td>https://www.accessdata.fda.gov/scripts/ires/?P...</td>\n",
       "      <td>1</td>\n",
       "      <td>0</td>\n",
       "      <td>0</td>\n",
       "    </tr>\n",
       "    <tr>\n",
       "      <th>4</th>\n",
       "      <td>3010452309</td>\n",
       "      <td>ELITE CONFECTIONERY LTD</td>\n",
       "      <td>Food/Cosmetics</td>\n",
       "      <td>Class I</td>\n",
       "      <td>Ongoing</td>\n",
       "      <td>Distributed in the US nationwide</td>\n",
       "      <td>Nof Ha-Galil</td>\n",
       "      <td>-</td>\n",
       "      <td>Israel</td>\n",
       "      <td>2022-06-04</td>\n",
       "      <td>Potential contamination with Salmonella</td>\n",
       "      <td>ELITE MILK CHOCOLATE WITH BERRY FLAVOR TRUFFLE...</td>\n",
       "      <td>90105</td>\n",
       "      <td>Class I</td>\n",
       "      <td>193409</td>\n",
       "      <td>CFSAN</td>\n",
       "      <td>https://www.accessdata.fda.gov/scripts/ires/?P...</td>\n",
       "      <td>1</td>\n",
       "      <td>0</td>\n",
       "      <td>0</td>\n",
       "    </tr>\n",
       "  </tbody>\n",
       "</table>\n",
       "</div>"
      ],
      "text/plain": [
       "   FEI Number      Recalling Firm Name    Product Type Product Classification  \\\n",
       "0  3010452309  ELITE CONFECTIONERY LTD  Food/Cosmetics                Class I   \n",
       "1  3010452309  ELITE CONFECTIONERY LTD  Food/Cosmetics                Class I   \n",
       "2  3010452309  ELITE CONFECTIONERY LTD  Food/Cosmetics                Class I   \n",
       "3  3010452309  ELITE CONFECTIONERY LTD  Food/Cosmetics                Class I   \n",
       "4  3010452309  ELITE CONFECTIONERY LTD  Food/Cosmetics                Class I   \n",
       "\n",
       "    Status              Distribution Pattern Recalling Firm City  \\\n",
       "0  Ongoing  Distributed in the US nationwide        Nof Ha-Galil   \n",
       "1  Ongoing  Distributed in the US nationwide        Nof Ha-Galil   \n",
       "2  Ongoing  Distributed in the US nationwide        Nof Ha-Galil   \n",
       "3  Ongoing  Distributed in the US nationwide        Nof Ha-Galil   \n",
       "4  Ongoing  Distributed in the US nationwide        Nof Ha-Galil   \n",
       "\n",
       "  Recalling Firm State Recalling Firm Country Center Classification Date  \\\n",
       "0                    -                 Israel                 2022-06-04   \n",
       "1                    -                 Israel                 2022-06-04   \n",
       "2                    -                 Israel                 2022-06-04   \n",
       "3                    -                 Israel                 2022-06-04   \n",
       "4                    -                 Israel                 2022-06-04   \n",
       "\n",
       "                         Reason for Recall  \\\n",
       "0  Potential contamination with Salmonella   \n",
       "1  Potential contamination with Salmonella   \n",
       "2  Potential contamination with Salmonella   \n",
       "3  Potential contamination with Salmonella   \n",
       "4  Potential contamination with Salmonella   \n",
       "\n",
       "                                 Product Description  Event ID  \\\n",
       "0  Elite Hazelnut & Almond Milk Chocolate Bar Net...     90105   \n",
       "1  ELITE MILK CHOCOLATE BAR WITH STRAWBERRY CREAM...     90105   \n",
       "2  ELITE POPPING ROCKS MILK CHOCOLATE BAR UPC:815...     90105   \n",
       "3  ELITE WHITE CHOCOLATE BAR\\tUPC:815871011471 & ...     90105   \n",
       "4  ELITE MILK CHOCOLATE WITH BERRY FLAVOR TRUFFLE...     90105   \n",
       "\n",
       "  Event Classification  Product ID Center  \\\n",
       "0              Class I      193404  CFSAN   \n",
       "1              Class I      193406  CFSAN   \n",
       "2              Class I      193407  CFSAN   \n",
       "3              Class I      193408  CFSAN   \n",
       "4              Class I      193409  CFSAN   \n",
       "\n",
       "                                      Recall Details  Class_I  Class_II  \\\n",
       "0  https://www.accessdata.fda.gov/scripts/ires/?P...        1         0   \n",
       "1  https://www.accessdata.fda.gov/scripts/ires/?P...        1         0   \n",
       "2  https://www.accessdata.fda.gov/scripts/ires/?P...        1         0   \n",
       "3  https://www.accessdata.fda.gov/scripts/ires/?P...        1         0   \n",
       "4  https://www.accessdata.fda.gov/scripts/ires/?P...        1         0   \n",
       "\n",
       "   Class_III  \n",
       "0          0  \n",
       "1          0  \n",
       "2          0  \n",
       "3          0  \n",
       "4          0  "
      ]
     },
     "execution_count": 14,
     "metadata": {},
     "output_type": "execute_result"
    }
   ],
   "source": [
    "df.head()"
   ]
  },
  {
   "cell_type": "code",
   "execution_count": 15,
   "metadata": {},
   "outputs": [],
   "source": [
    "#  encoding Event Classification\n",
    "df['Event Classification'] = df['Event Classification'].replace({'Class I':1, 'Class II':2, 'Class III':3})"
   ]
  },
  {
   "cell_type": "code",
   "execution_count": 16,
   "metadata": {},
   "outputs": [],
   "source": [
    "# encoding 'Product Type' and 'Recalling Firm Country'\n",
    "for i in ['Product Type', 'Recalling Firm Country']:\n",
    "    df[i] = encoder.fit_transform(df[[i]]).toarray()"
   ]
  },
  {
   "cell_type": "code",
   "execution_count": 17,
   "metadata": {},
   "outputs": [
    {
     "data": {
      "text/html": [
       "<div>\n",
       "<style scoped>\n",
       "    .dataframe tbody tr th:only-of-type {\n",
       "        vertical-align: middle;\n",
       "    }\n",
       "\n",
       "    .dataframe tbody tr th {\n",
       "        vertical-align: top;\n",
       "    }\n",
       "\n",
       "    .dataframe thead th {\n",
       "        text-align: right;\n",
       "    }\n",
       "</style>\n",
       "<table border=\"1\" class=\"dataframe\">\n",
       "  <thead>\n",
       "    <tr style=\"text-align: right;\">\n",
       "      <th></th>\n",
       "      <th>Recalling Firm Name</th>\n",
       "      <th>Product Type</th>\n",
       "      <th>Recalling Firm Country</th>\n",
       "      <th>Reason for Recall</th>\n",
       "      <th>Product Description</th>\n",
       "      <th>Event Classification</th>\n",
       "    </tr>\n",
       "  </thead>\n",
       "  <tbody>\n",
       "    <tr>\n",
       "      <th>0</th>\n",
       "      <td>ELITE CONFECTIONERY LTD</td>\n",
       "      <td>0.0</td>\n",
       "      <td>0.0</td>\n",
       "      <td>Potential contamination with Salmonella</td>\n",
       "      <td>Elite Hazelnut &amp; Almond Milk Chocolate Bar Net...</td>\n",
       "      <td>1</td>\n",
       "    </tr>\n",
       "    <tr>\n",
       "      <th>1</th>\n",
       "      <td>ELITE CONFECTIONERY LTD</td>\n",
       "      <td>0.0</td>\n",
       "      <td>0.0</td>\n",
       "      <td>Potential contamination with Salmonella</td>\n",
       "      <td>ELITE MILK CHOCOLATE BAR WITH STRAWBERRY CREAM...</td>\n",
       "      <td>1</td>\n",
       "    </tr>\n",
       "    <tr>\n",
       "      <th>2</th>\n",
       "      <td>ELITE CONFECTIONERY LTD</td>\n",
       "      <td>0.0</td>\n",
       "      <td>0.0</td>\n",
       "      <td>Potential contamination with Salmonella</td>\n",
       "      <td>ELITE POPPING ROCKS MILK CHOCOLATE BAR UPC:815...</td>\n",
       "      <td>1</td>\n",
       "    </tr>\n",
       "    <tr>\n",
       "      <th>3</th>\n",
       "      <td>ELITE CONFECTIONERY LTD</td>\n",
       "      <td>0.0</td>\n",
       "      <td>0.0</td>\n",
       "      <td>Potential contamination with Salmonella</td>\n",
       "      <td>ELITE WHITE CHOCOLATE BAR\\tUPC:815871011471 &amp; ...</td>\n",
       "      <td>1</td>\n",
       "    </tr>\n",
       "    <tr>\n",
       "      <th>4</th>\n",
       "      <td>ELITE CONFECTIONERY LTD</td>\n",
       "      <td>0.0</td>\n",
       "      <td>0.0</td>\n",
       "      <td>Potential contamination with Salmonella</td>\n",
       "      <td>ELITE MILK CHOCOLATE WITH BERRY FLAVOR TRUFFLE...</td>\n",
       "      <td>1</td>\n",
       "    </tr>\n",
       "  </tbody>\n",
       "</table>\n",
       "</div>"
      ],
      "text/plain": [
       "       Recalling Firm Name  Product Type  Recalling Firm Country  \\\n",
       "0  ELITE CONFECTIONERY LTD           0.0                     0.0   \n",
       "1  ELITE CONFECTIONERY LTD           0.0                     0.0   \n",
       "2  ELITE CONFECTIONERY LTD           0.0                     0.0   \n",
       "3  ELITE CONFECTIONERY LTD           0.0                     0.0   \n",
       "4  ELITE CONFECTIONERY LTD           0.0                     0.0   \n",
       "\n",
       "                         Reason for Recall  \\\n",
       "0  Potential contamination with Salmonella   \n",
       "1  Potential contamination with Salmonella   \n",
       "2  Potential contamination with Salmonella   \n",
       "3  Potential contamination with Salmonella   \n",
       "4  Potential contamination with Salmonella   \n",
       "\n",
       "                                 Product Description  Event Classification  \n",
       "0  Elite Hazelnut & Almond Milk Chocolate Bar Net...                     1  \n",
       "1  ELITE MILK CHOCOLATE BAR WITH STRAWBERRY CREAM...                     1  \n",
       "2  ELITE POPPING ROCKS MILK CHOCOLATE BAR UPC:815...                     1  \n",
       "3  ELITE WHITE CHOCOLATE BAR\\tUPC:815871011471 & ...                     1  \n",
       "4  ELITE MILK CHOCOLATE WITH BERRY FLAVOR TRUFFLE...                     1  "
      ]
     },
     "execution_count": 17,
     "metadata": {},
     "output_type": "execute_result"
    }
   ],
   "source": [
    "# transformed dataframe with encoded 'Event Classification' and columns of interest filtered  out\n",
    "new_df = df[['Recalling Firm Name', 'Product Type', 'Recalling Firm Country', 'Reason for Recall', 'Product Description', 'Event Classification']]\n",
    "new_df.head()"
   ]
  },
  {
   "cell_type": "code",
   "execution_count": 18,
   "metadata": {},
   "outputs": [],
   "source": [
    "#table export\n",
    "#new_df.to_csv('Exported_tables/ETL_data.csv')"
   ]
  },
  {
   "cell_type": "code",
   "execution_count": null,
   "metadata": {},
   "outputs": [],
   "source": []
  }
 ],
 "metadata": {
  "kernelspec": {
   "display_name": "Python 3.9.12 ('base')",
   "language": "python",
   "name": "python3"
  },
  "language_info": {
   "codemirror_mode": {
    "name": "ipython",
    "version": 3
   },
   "file_extension": ".py",
   "mimetype": "text/x-python",
   "name": "python",
   "nbconvert_exporter": "python",
   "pygments_lexer": "ipython3",
   "version": "3.9.12"
  },
  "orig_nbformat": 4,
  "vscode": {
   "interpreter": {
    "hash": "ce17c27415e5313cd54de49db3e23b7a90487c95f4edf3172481e42bb6d38379"
   }
  }
 },
 "nbformat": 4,
 "nbformat_minor": 2
}
