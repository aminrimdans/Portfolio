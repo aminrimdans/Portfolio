{
 "cells": [
  {
   "cell_type": "code",
   "execution_count": 1,
   "id": "e3c3e82a",
   "metadata": {},
   "outputs": [],
   "source": [
    "import pandas as pd\n",
    "import matplotlib. pyplot as plt \n",
    "import seaborn as sns"
   ]
  },
  {
   "cell_type": "code",
   "execution_count": 2,
   "id": "1ac74612",
   "metadata": {},
   "outputs": [],
   "source": [
    "df = pd.read_excel('/Users/moulyanaveenachoday/Downloads/Recalls.xlsx')\n",
    "#Github link to data above is https://github.com/NaveenaChodayy/TEAM_E_Data606/blob/main/Exported_tables/Recalls.xlsx"
   ]
  },
  {
   "cell_type": "code",
   "execution_count": 3,
   "id": "319b47a5",
   "metadata": {},
   "outputs": [
    {
     "data": {
      "text/plain": [
       "(78451, 17)"
      ]
     },
     "execution_count": 3,
     "metadata": {},
     "output_type": "execute_result"
    }
   ],
   "source": [
    "df.shape"
   ]
  },
  {
   "cell_type": "code",
   "execution_count": 4,
   "id": "82f4ad86",
   "metadata": {},
   "outputs": [
    {
     "name": "stdout",
     "output_type": "stream",
     "text": [
      "<class 'pandas.core.frame.DataFrame'>\n",
      "RangeIndex: 78451 entries, 0 to 78450\n",
      "Data columns (total 17 columns):\n",
      " #   Column                      Non-Null Count  Dtype         \n",
      "---  ------                      --------------  -----         \n",
      " 0   FEI Number                  78451 non-null  object        \n",
      " 1   Recalling Firm Name         78451 non-null  object        \n",
      " 2   Product Type                78451 non-null  object        \n",
      " 3   Product Classification      78451 non-null  object        \n",
      " 4   Status                      78451 non-null  object        \n",
      " 5   Distribution Pattern        78450 non-null  object        \n",
      " 6   Recalling Firm City         78451 non-null  object        \n",
      " 7   Recalling Firm State        78451 non-null  object        \n",
      " 8   Recalling Firm Country      78451 non-null  object        \n",
      " 9   Center Classification Date  78451 non-null  datetime64[ns]\n",
      " 10  Reason for Recall           78451 non-null  object        \n",
      " 11  Product Description         78451 non-null  object        \n",
      " 12  Event ID                    78451 non-null  int64         \n",
      " 13  Event Classification        78451 non-null  object        \n",
      " 14  Product ID                  78451 non-null  int64         \n",
      " 15  Center                      78451 non-null  object        \n",
      " 16  Recall Details              78451 non-null  object        \n",
      "dtypes: datetime64[ns](1), int64(2), object(14)\n",
      "memory usage: 10.2+ MB\n"
     ]
    }
   ],
   "source": [
    "df.info()"
   ]
  },
  {
   "cell_type": "code",
   "execution_count": 5,
   "id": "d3a155e7",
   "metadata": {},
   "outputs": [
    {
     "data": {
      "text/html": [
       "<div>\n",
       "<style scoped>\n",
       "    .dataframe tbody tr th:only-of-type {\n",
       "        vertical-align: middle;\n",
       "    }\n",
       "\n",
       "    .dataframe tbody tr th {\n",
       "        vertical-align: top;\n",
       "    }\n",
       "\n",
       "    .dataframe thead th {\n",
       "        text-align: right;\n",
       "    }\n",
       "</style>\n",
       "<table border=\"1\" class=\"dataframe\">\n",
       "  <thead>\n",
       "    <tr style=\"text-align: right;\">\n",
       "      <th></th>\n",
       "      <th>FEI Number</th>\n",
       "      <th>Recalling Firm Name</th>\n",
       "      <th>Product Type</th>\n",
       "      <th>Product Classification</th>\n",
       "      <th>Status</th>\n",
       "      <th>Distribution Pattern</th>\n",
       "      <th>Recalling Firm City</th>\n",
       "      <th>Recalling Firm State</th>\n",
       "      <th>Recalling Firm Country</th>\n",
       "      <th>Center Classification Date</th>\n",
       "      <th>Reason for Recall</th>\n",
       "      <th>Product Description</th>\n",
       "      <th>Event ID</th>\n",
       "      <th>Event Classification</th>\n",
       "      <th>Product ID</th>\n",
       "      <th>Center</th>\n",
       "      <th>Recall Details</th>\n",
       "    </tr>\n",
       "  </thead>\n",
       "  <tbody>\n",
       "    <tr>\n",
       "      <th>0</th>\n",
       "      <td>1072425</td>\n",
       "      <td>OneBlood, Inc.</td>\n",
       "      <td>Biologics</td>\n",
       "      <td>Class II</td>\n",
       "      <td>Completed</td>\n",
       "      <td>Florida</td>\n",
       "      <td>Orlando</td>\n",
       "      <td>Florida</td>\n",
       "      <td>United States</td>\n",
       "      <td>2022-06-12</td>\n",
       "      <td>Apheresis Red Blood Cell product, for which qu...</td>\n",
       "      <td>Apheresis Red Blood Cells, Leukocytes Reduced</td>\n",
       "      <td>90354</td>\n",
       "      <td>Class II</td>\n",
       "      <td>194207</td>\n",
       "      <td>CBER</td>\n",
       "      <td>https://www.accessdata.fda.gov/scripts/ires/?P...</td>\n",
       "    </tr>\n",
       "    <tr>\n",
       "      <th>1</th>\n",
       "      <td>1070196</td>\n",
       "      <td>OneBlood, Inc.</td>\n",
       "      <td>Biologics</td>\n",
       "      <td>Class II</td>\n",
       "      <td>Terminated</td>\n",
       "      <td>Louisiana</td>\n",
       "      <td>St Petersburg</td>\n",
       "      <td>Florida</td>\n",
       "      <td>United States</td>\n",
       "      <td>2022-06-12</td>\n",
       "      <td>Apheresis Red Blood Cell products, for which q...</td>\n",
       "      <td>Apheresis Red Blood Cells, Leukocytes Reduced</td>\n",
       "      <td>90329</td>\n",
       "      <td>Class II</td>\n",
       "      <td>194144</td>\n",
       "      <td>CBER</td>\n",
       "      <td>https://www.accessdata.fda.gov/scripts/ires/?P...</td>\n",
       "    </tr>\n",
       "    <tr>\n",
       "      <th>2</th>\n",
       "      <td>1070196</td>\n",
       "      <td>OneBlood, Inc.</td>\n",
       "      <td>Biologics</td>\n",
       "      <td>Class II</td>\n",
       "      <td>Terminated</td>\n",
       "      <td>North Carolina</td>\n",
       "      <td>St Petersburg</td>\n",
       "      <td>Florida</td>\n",
       "      <td>United States</td>\n",
       "      <td>2022-06-12</td>\n",
       "      <td>Apheresis Red Blood Cell products, for which q...</td>\n",
       "      <td>Apheresis Red Blood Cells, Leukocytes Reduced</td>\n",
       "      <td>90357</td>\n",
       "      <td>Class II</td>\n",
       "      <td>194211</td>\n",
       "      <td>CBER</td>\n",
       "      <td>https://www.accessdata.fda.gov/scripts/ires/?P...</td>\n",
       "    </tr>\n",
       "    <tr>\n",
       "      <th>3</th>\n",
       "      <td>1626009</td>\n",
       "      <td>Oklahoma Blood Institute</td>\n",
       "      <td>Biologics</td>\n",
       "      <td>Class II</td>\n",
       "      <td>Terminated</td>\n",
       "      <td>Ohio; Oklahoma</td>\n",
       "      <td>Oklahoma City</td>\n",
       "      <td>Oklahoma</td>\n",
       "      <td>United States</td>\n",
       "      <td>2022-06-12</td>\n",
       "      <td>Blood products, for which donor eligibility wa...</td>\n",
       "      <td>Red Blood Cells, Leukocytes Reduced</td>\n",
       "      <td>90356</td>\n",
       "      <td>Class II</td>\n",
       "      <td>194209</td>\n",
       "      <td>CBER</td>\n",
       "      <td>https://www.accessdata.fda.gov/scripts/ires/?P...</td>\n",
       "    </tr>\n",
       "    <tr>\n",
       "      <th>4</th>\n",
       "      <td>1626009</td>\n",
       "      <td>Oklahoma Blood Institute</td>\n",
       "      <td>Biologics</td>\n",
       "      <td>Class II</td>\n",
       "      <td>Terminated</td>\n",
       "      <td>Ohio; Oklahoma</td>\n",
       "      <td>Oklahoma City</td>\n",
       "      <td>Oklahoma</td>\n",
       "      <td>United States</td>\n",
       "      <td>2022-06-12</td>\n",
       "      <td>Blood products, for which donor eligibility wa...</td>\n",
       "      <td>Cryoprecipitated AHF</td>\n",
       "      <td>90356</td>\n",
       "      <td>Class II</td>\n",
       "      <td>194210</td>\n",
       "      <td>CBER</td>\n",
       "      <td>https://www.accessdata.fda.gov/scripts/ires/?P...</td>\n",
       "    </tr>\n",
       "  </tbody>\n",
       "</table>\n",
       "</div>"
      ],
      "text/plain": [
       "  FEI Number       Recalling Firm Name Product Type Product Classification  \\\n",
       "0    1072425            OneBlood, Inc.    Biologics               Class II   \n",
       "1    1070196            OneBlood, Inc.    Biologics               Class II   \n",
       "2    1070196            OneBlood, Inc.    Biologics               Class II   \n",
       "3    1626009  Oklahoma Blood Institute    Biologics               Class II   \n",
       "4    1626009  Oklahoma Blood Institute    Biologics               Class II   \n",
       "\n",
       "       Status Distribution Pattern Recalling Firm City Recalling Firm State  \\\n",
       "0   Completed              Florida             Orlando              Florida   \n",
       "1  Terminated            Louisiana       St Petersburg              Florida   \n",
       "2  Terminated       North Carolina       St Petersburg              Florida   \n",
       "3  Terminated       Ohio; Oklahoma       Oklahoma City             Oklahoma   \n",
       "4  Terminated       Ohio; Oklahoma       Oklahoma City             Oklahoma   \n",
       "\n",
       "  Recalling Firm Country Center Classification Date  \\\n",
       "0          United States                 2022-06-12   \n",
       "1          United States                 2022-06-12   \n",
       "2          United States                 2022-06-12   \n",
       "3          United States                 2022-06-12   \n",
       "4          United States                 2022-06-12   \n",
       "\n",
       "                                   Reason for Recall  \\\n",
       "0  Apheresis Red Blood Cell product, for which qu...   \n",
       "1  Apheresis Red Blood Cell products, for which q...   \n",
       "2  Apheresis Red Blood Cell products, for which q...   \n",
       "3  Blood products, for which donor eligibility wa...   \n",
       "4  Blood products, for which donor eligibility wa...   \n",
       "\n",
       "                             Product Description  Event ID  \\\n",
       "0  Apheresis Red Blood Cells, Leukocytes Reduced     90354   \n",
       "1  Apheresis Red Blood Cells, Leukocytes Reduced     90329   \n",
       "2  Apheresis Red Blood Cells, Leukocytes Reduced     90357   \n",
       "3            Red Blood Cells, Leukocytes Reduced     90356   \n",
       "4                           Cryoprecipitated AHF     90356   \n",
       "\n",
       "  Event Classification  Product ID Center  \\\n",
       "0             Class II      194207   CBER   \n",
       "1             Class II      194144   CBER   \n",
       "2             Class II      194211   CBER   \n",
       "3             Class II      194209   CBER   \n",
       "4             Class II      194210   CBER   \n",
       "\n",
       "                                      Recall Details  \n",
       "0  https://www.accessdata.fda.gov/scripts/ires/?P...  \n",
       "1  https://www.accessdata.fda.gov/scripts/ires/?P...  \n",
       "2  https://www.accessdata.fda.gov/scripts/ires/?P...  \n",
       "3  https://www.accessdata.fda.gov/scripts/ires/?P...  \n",
       "4  https://www.accessdata.fda.gov/scripts/ires/?P...  "
      ]
     },
     "execution_count": 5,
     "metadata": {},
     "output_type": "execute_result"
    }
   ],
   "source": [
    "df.head()"
   ]
  },
  {
   "cell_type": "code",
   "execution_count": 6,
   "id": "cd146a4e",
   "metadata": {},
   "outputs": [
    {
     "data": {
      "text/plain": [
       "array(['Biologics', 'Devices', 'Food/Cosmetics', 'Drugs', 'Veterinary',\n",
       "       'Tobacco'], dtype=object)"
      ]
     },
     "execution_count": 6,
     "metadata": {},
     "output_type": "execute_result"
    }
   ],
   "source": [
    "df['Product Type'].unique()"
   ]
  },
  {
   "cell_type": "code",
   "execution_count": 7,
   "id": "8b5c36cd",
   "metadata": {},
   "outputs": [
    {
     "data": {
      "text/plain": [
       "FEI Number                    0\n",
       "Recalling Firm Name           0\n",
       "Product Type                  0\n",
       "Product Classification        0\n",
       "Status                        0\n",
       "Distribution Pattern          1\n",
       "Recalling Firm City           0\n",
       "Recalling Firm State          0\n",
       "Recalling Firm Country        0\n",
       "Center Classification Date    0\n",
       "Reason for Recall             0\n",
       "Product Description           0\n",
       "Event ID                      0\n",
       "Event Classification          0\n",
       "Product ID                    0\n",
       "Center                        0\n",
       "Recall Details                0\n",
       "dtype: int64"
      ]
     },
     "execution_count": 7,
     "metadata": {},
     "output_type": "execute_result"
    }
   ],
   "source": [
    "df.isnull().sum()"
   ]
  },
  {
   "cell_type": "code",
   "execution_count": 8,
   "id": "a0911cbb",
   "metadata": {},
   "outputs": [
    {
     "data": {
      "text/html": [
       "<div>\n",
       "<style scoped>\n",
       "    .dataframe tbody tr th:only-of-type {\n",
       "        vertical-align: middle;\n",
       "    }\n",
       "\n",
       "    .dataframe tbody tr th {\n",
       "        vertical-align: top;\n",
       "    }\n",
       "\n",
       "    .dataframe thead th {\n",
       "        text-align: right;\n",
       "    }\n",
       "</style>\n",
       "<table border=\"1\" class=\"dataframe\">\n",
       "  <thead>\n",
       "    <tr style=\"text-align: right;\">\n",
       "      <th></th>\n",
       "      <th>FEI Number</th>\n",
       "      <th>Recalling Firm Name</th>\n",
       "      <th>Product Type</th>\n",
       "      <th>Product Classification</th>\n",
       "      <th>Status</th>\n",
       "      <th>Distribution Pattern</th>\n",
       "      <th>Recalling Firm City</th>\n",
       "      <th>Recalling Firm State</th>\n",
       "      <th>Recalling Firm Country</th>\n",
       "      <th>Center Classification Date</th>\n",
       "      <th>Reason for Recall</th>\n",
       "      <th>Product Description</th>\n",
       "      <th>Event ID</th>\n",
       "      <th>Event Classification</th>\n",
       "      <th>Product ID</th>\n",
       "      <th>Center</th>\n",
       "      <th>Recall Details</th>\n",
       "    </tr>\n",
       "  </thead>\n",
       "  <tbody>\n",
       "    <tr>\n",
       "      <th>2415</th>\n",
       "      <td>3012046682</td>\n",
       "      <td>FlexDex Inc.</td>\n",
       "      <td>Devices</td>\n",
       "      <td>Class II</td>\n",
       "      <td>Ongoing</td>\n",
       "      <td>NaN</td>\n",
       "      <td>Brighton</td>\n",
       "      <td>Michigan</td>\n",
       "      <td>United States</td>\n",
       "      <td>2022-01-27</td>\n",
       "      <td>The firm is reinforcing the IFU instructions: ...</td>\n",
       "      <td>8mm FlexDex Needle Driver, Product Code FD-335 ND</td>\n",
       "      <td>89316</td>\n",
       "      <td>Class II</td>\n",
       "      <td>191253</td>\n",
       "      <td>CDRH</td>\n",
       "      <td>https://www.accessdata.fda.gov/scripts/ires/?P...</td>\n",
       "    </tr>\n",
       "  </tbody>\n",
       "</table>\n",
       "</div>"
      ],
      "text/plain": [
       "      FEI Number Recalling Firm Name Product Type Product Classification  \\\n",
       "2415  3012046682        FlexDex Inc.      Devices               Class II   \n",
       "\n",
       "       Status Distribution Pattern Recalling Firm City Recalling Firm State  \\\n",
       "2415  Ongoing                  NaN            Brighton             Michigan   \n",
       "\n",
       "     Recalling Firm Country Center Classification Date  \\\n",
       "2415          United States                 2022-01-27   \n",
       "\n",
       "                                      Reason for Recall  \\\n",
       "2415  The firm is reinforcing the IFU instructions: ...   \n",
       "\n",
       "                                    Product Description  Event ID  \\\n",
       "2415  8mm FlexDex Needle Driver, Product Code FD-335 ND     89316   \n",
       "\n",
       "     Event Classification  Product ID Center  \\\n",
       "2415             Class II      191253   CDRH   \n",
       "\n",
       "                                         Recall Details  \n",
       "2415  https://www.accessdata.fda.gov/scripts/ires/?P...  "
      ]
     },
     "execution_count": 8,
     "metadata": {},
     "output_type": "execute_result"
    }
   ],
   "source": [
    "df[df['Distribution Pattern'].isna()]"
   ]
  },
  {
   "cell_type": "code",
   "execution_count": 9,
   "id": "3882a789",
   "metadata": {},
   "outputs": [
    {
     "data": {
      "text/plain": [
       "Recalling Firm Name\n",
       "Zimmer Biomet, Inc.                              875\n",
       "Customed, Inc                                    682\n",
       "OneBlood, Inc.                                   673\n",
       "Garden-Fresh Foods, Inc.                         634\n",
       "Aidapak Services, LLC                            538\n",
       "                                                ... \n",
       "Jones Natural Chews, Co., Inc.                     1\n",
       "Joliet Blood Plasma LLC dba Plasma Care, Inc.      1\n",
       "Johnson, S C and Son, Inc                          1\n",
       "Johnson Sea Products, Inc.                         1\n",
       "yoders country market                              1\n",
       "Name: Event ID, Length: 8419, dtype: int64"
      ]
     },
     "execution_count": 9,
     "metadata": {},
     "output_type": "execute_result"
    }
   ],
   "source": [
    "df.groupby('Recalling Firm Name')['Event ID'].count().sort_values(ascending=False)"
   ]
  },
  {
   "cell_type": "code",
   "execution_count": 10,
   "id": "ee34f436",
   "metadata": {},
   "outputs": [
    {
     "data": {
      "text/plain": [
       "array(['Class II', 'Class III', 'Class I'], dtype=object)"
      ]
     },
     "execution_count": 10,
     "metadata": {},
     "output_type": "execute_result"
    }
   ],
   "source": [
    "df['Event Classification'].unique()"
   ]
  },
  {
   "cell_type": "code",
   "execution_count": 11,
   "id": "e62534ea",
   "metadata": {},
   "outputs": [
    {
     "data": {
      "text/plain": [
       "Recalling Firm Name       Event Classification\n",
       "1 Epic, LLC               Class II                 4\n",
       "1908 Brands               Class II                 6\n",
       "2 Moms in the Raw, LLC    Class I                  1\n",
       "21ST CENTURY SNACK FOODS  Class II                 1\n",
       "21st Century Foods, Inc.  Class II                 1\n",
       "                                                  ..\n",
       "the Compounder            Class II                47\n",
       "ulrich medical USA Inc    Class II                 3\n",
       "weaver fundraising        Class II                 2\n",
       "www.blankterrmall.com     Class I                  1\n",
       "yoders country market     Class I                  1\n",
       "Name: Product Description, Length: 10044, dtype: int64"
      ]
     },
     "execution_count": 11,
     "metadata": {},
     "output_type": "execute_result"
    }
   ],
   "source": [
    "d = df.groupby(['Recalling Firm Name','Event Classification'])['Product Description'].count()\n",
    "d"
   ]
  },
  {
   "cell_type": "code",
   "execution_count": 12,
   "id": "e4ebd953",
   "metadata": {},
   "outputs": [
    {
     "data": {
      "text/plain": [
       "((16280, 17), (55488, 17))"
      ]
     },
     "execution_count": 12,
     "metadata": {},
     "output_type": "execute_result"
    }
   ],
   "source": [
    "class1 = df[df['Event Classification']=='Class I']\n",
    "class2 = df[df['Event Classification']=='Class II']\n",
    "class1.shape, class2.shape"
   ]
  },
  {
   "cell_type": "code",
   "execution_count": 13,
   "id": "1f7d6b9e",
   "metadata": {},
   "outputs": [
    {
     "data": {
      "text/plain": [
       "FEI Number                            object\n",
       "Recalling Firm Name                   object\n",
       "Product Type                          object\n",
       "Product Classification                object\n",
       "Status                                object\n",
       "Distribution Pattern                  object\n",
       "Recalling Firm City                   object\n",
       "Recalling Firm State                  object\n",
       "Recalling Firm Country                object\n",
       "Center Classification Date    datetime64[ns]\n",
       "Reason for Recall                     object\n",
       "Product Description                   object\n",
       "Event ID                               int64\n",
       "Event Classification                  object\n",
       "Product ID                             int64\n",
       "Center                                object\n",
       "Recall Details                        object\n",
       "dtype: object"
      ]
     },
     "execution_count": 13,
     "metadata": {},
     "output_type": "execute_result"
    }
   ],
   "source": [
    "df.dtypes"
   ]
  },
  {
   "cell_type": "code",
   "execution_count": 14,
   "id": "e2c3e411",
   "metadata": {},
   "outputs": [
    {
     "data": {
      "text/html": [
       "<div>\n",
       "<style scoped>\n",
       "    .dataframe tbody tr th:only-of-type {\n",
       "        vertical-align: middle;\n",
       "    }\n",
       "\n",
       "    .dataframe tbody tr th {\n",
       "        vertical-align: top;\n",
       "    }\n",
       "\n",
       "    .dataframe thead th {\n",
       "        text-align: right;\n",
       "    }\n",
       "</style>\n",
       "<table border=\"1\" class=\"dataframe\">\n",
       "  <thead>\n",
       "    <tr style=\"text-align: right;\">\n",
       "      <th></th>\n",
       "      <th>FEI Number</th>\n",
       "      <th>Recalling Firm Name</th>\n",
       "      <th>Product Type</th>\n",
       "      <th>Product Classification</th>\n",
       "      <th>Status</th>\n",
       "      <th>Distribution Pattern</th>\n",
       "      <th>Recalling Firm City</th>\n",
       "      <th>Recalling Firm State</th>\n",
       "      <th>Recalling Firm Country</th>\n",
       "      <th>Center Classification Date</th>\n",
       "      <th>Reason for Recall</th>\n",
       "      <th>Product Description</th>\n",
       "      <th>Event ID</th>\n",
       "      <th>Event Classification</th>\n",
       "      <th>Product ID</th>\n",
       "      <th>Center</th>\n",
       "      <th>Recall Details</th>\n",
       "    </tr>\n",
       "  </thead>\n",
       "  <tbody>\n",
       "    <tr>\n",
       "      <th>0</th>\n",
       "      <td>1072425</td>\n",
       "      <td>OneBlood, Inc.</td>\n",
       "      <td>Biologics</td>\n",
       "      <td>Class II</td>\n",
       "      <td>Completed</td>\n",
       "      <td>Florida</td>\n",
       "      <td>Orlando</td>\n",
       "      <td>Florida</td>\n",
       "      <td>United States</td>\n",
       "      <td>2022-06-12</td>\n",
       "      <td>Apheresis Red Blood Cell product, for which qu...</td>\n",
       "      <td>Apheresis Red Blood Cells, Leukocytes Reduced</td>\n",
       "      <td>90354</td>\n",
       "      <td>Class II</td>\n",
       "      <td>194207</td>\n",
       "      <td>CBER</td>\n",
       "      <td>https://www.accessdata.fda.gov/scripts/ires/?P...</td>\n",
       "    </tr>\n",
       "    <tr>\n",
       "      <th>1</th>\n",
       "      <td>1070196</td>\n",
       "      <td>OneBlood, Inc.</td>\n",
       "      <td>Biologics</td>\n",
       "      <td>Class II</td>\n",
       "      <td>Terminated</td>\n",
       "      <td>Louisiana</td>\n",
       "      <td>St Petersburg</td>\n",
       "      <td>Florida</td>\n",
       "      <td>United States</td>\n",
       "      <td>2022-06-12</td>\n",
       "      <td>Apheresis Red Blood Cell products, for which q...</td>\n",
       "      <td>Apheresis Red Blood Cells, Leukocytes Reduced</td>\n",
       "      <td>90329</td>\n",
       "      <td>Class II</td>\n",
       "      <td>194144</td>\n",
       "      <td>CBER</td>\n",
       "      <td>https://www.accessdata.fda.gov/scripts/ires/?P...</td>\n",
       "    </tr>\n",
       "    <tr>\n",
       "      <th>2</th>\n",
       "      <td>1070196</td>\n",
       "      <td>OneBlood, Inc.</td>\n",
       "      <td>Biologics</td>\n",
       "      <td>Class II</td>\n",
       "      <td>Terminated</td>\n",
       "      <td>North Carolina</td>\n",
       "      <td>St Petersburg</td>\n",
       "      <td>Florida</td>\n",
       "      <td>United States</td>\n",
       "      <td>2022-06-12</td>\n",
       "      <td>Apheresis Red Blood Cell products, for which q...</td>\n",
       "      <td>Apheresis Red Blood Cells, Leukocytes Reduced</td>\n",
       "      <td>90357</td>\n",
       "      <td>Class II</td>\n",
       "      <td>194211</td>\n",
       "      <td>CBER</td>\n",
       "      <td>https://www.accessdata.fda.gov/scripts/ires/?P...</td>\n",
       "    </tr>\n",
       "    <tr>\n",
       "      <th>3</th>\n",
       "      <td>1626009</td>\n",
       "      <td>Oklahoma Blood Institute</td>\n",
       "      <td>Biologics</td>\n",
       "      <td>Class II</td>\n",
       "      <td>Terminated</td>\n",
       "      <td>Ohio; Oklahoma</td>\n",
       "      <td>Oklahoma City</td>\n",
       "      <td>Oklahoma</td>\n",
       "      <td>United States</td>\n",
       "      <td>2022-06-12</td>\n",
       "      <td>Blood products, for which donor eligibility wa...</td>\n",
       "      <td>Red Blood Cells, Leukocytes Reduced</td>\n",
       "      <td>90356</td>\n",
       "      <td>Class II</td>\n",
       "      <td>194209</td>\n",
       "      <td>CBER</td>\n",
       "      <td>https://www.accessdata.fda.gov/scripts/ires/?P...</td>\n",
       "    </tr>\n",
       "    <tr>\n",
       "      <th>4</th>\n",
       "      <td>1626009</td>\n",
       "      <td>Oklahoma Blood Institute</td>\n",
       "      <td>Biologics</td>\n",
       "      <td>Class II</td>\n",
       "      <td>Terminated</td>\n",
       "      <td>Ohio; Oklahoma</td>\n",
       "      <td>Oklahoma City</td>\n",
       "      <td>Oklahoma</td>\n",
       "      <td>United States</td>\n",
       "      <td>2022-06-12</td>\n",
       "      <td>Blood products, for which donor eligibility wa...</td>\n",
       "      <td>Cryoprecipitated AHF</td>\n",
       "      <td>90356</td>\n",
       "      <td>Class II</td>\n",
       "      <td>194210</td>\n",
       "      <td>CBER</td>\n",
       "      <td>https://www.accessdata.fda.gov/scripts/ires/?P...</td>\n",
       "    </tr>\n",
       "  </tbody>\n",
       "</table>\n",
       "</div>"
      ],
      "text/plain": [
       "  FEI Number       Recalling Firm Name Product Type Product Classification  \\\n",
       "0    1072425            OneBlood, Inc.    Biologics               Class II   \n",
       "1    1070196            OneBlood, Inc.    Biologics               Class II   \n",
       "2    1070196            OneBlood, Inc.    Biologics               Class II   \n",
       "3    1626009  Oklahoma Blood Institute    Biologics               Class II   \n",
       "4    1626009  Oklahoma Blood Institute    Biologics               Class II   \n",
       "\n",
       "       Status Distribution Pattern Recalling Firm City Recalling Firm State  \\\n",
       "0   Completed              Florida             Orlando              Florida   \n",
       "1  Terminated            Louisiana       St Petersburg              Florida   \n",
       "2  Terminated       North Carolina       St Petersburg              Florida   \n",
       "3  Terminated       Ohio; Oklahoma       Oklahoma City             Oklahoma   \n",
       "4  Terminated       Ohio; Oklahoma       Oklahoma City             Oklahoma   \n",
       "\n",
       "  Recalling Firm Country Center Classification Date  \\\n",
       "0          United States                 2022-06-12   \n",
       "1          United States                 2022-06-12   \n",
       "2          United States                 2022-06-12   \n",
       "3          United States                 2022-06-12   \n",
       "4          United States                 2022-06-12   \n",
       "\n",
       "                                   Reason for Recall  \\\n",
       "0  Apheresis Red Blood Cell product, for which qu...   \n",
       "1  Apheresis Red Blood Cell products, for which q...   \n",
       "2  Apheresis Red Blood Cell products, for which q...   \n",
       "3  Blood products, for which donor eligibility wa...   \n",
       "4  Blood products, for which donor eligibility wa...   \n",
       "\n",
       "                             Product Description  Event ID  \\\n",
       "0  Apheresis Red Blood Cells, Leukocytes Reduced     90354   \n",
       "1  Apheresis Red Blood Cells, Leukocytes Reduced     90329   \n",
       "2  Apheresis Red Blood Cells, Leukocytes Reduced     90357   \n",
       "3            Red Blood Cells, Leukocytes Reduced     90356   \n",
       "4                           Cryoprecipitated AHF     90356   \n",
       "\n",
       "  Event Classification  Product ID Center  \\\n",
       "0             Class II      194207   CBER   \n",
       "1             Class II      194144   CBER   \n",
       "2             Class II      194211   CBER   \n",
       "3             Class II      194209   CBER   \n",
       "4             Class II      194210   CBER   \n",
       "\n",
       "                                      Recall Details  \n",
       "0  https://www.accessdata.fda.gov/scripts/ires/?P...  \n",
       "1  https://www.accessdata.fda.gov/scripts/ires/?P...  \n",
       "2  https://www.accessdata.fda.gov/scripts/ires/?P...  \n",
       "3  https://www.accessdata.fda.gov/scripts/ires/?P...  \n",
       "4  https://www.accessdata.fda.gov/scripts/ires/?P...  "
      ]
     },
     "execution_count": 14,
     "metadata": {},
     "output_type": "execute_result"
    }
   ],
   "source": [
    "df.head(5)"
   ]
  },
  {
   "cell_type": "markdown",
   "id": "b2218f31",
   "metadata": {},
   "source": [
    "### What is being recalled more frequently and who is the manufacturing firm?"
   ]
  },
  {
   "cell_type": "code",
   "execution_count": 15,
   "id": "8bd34e90",
   "metadata": {},
   "outputs": [
    {
     "name": "stderr",
     "output_type": "stream",
     "text": [
      "/opt/anaconda3/lib/python3.8/site-packages/seaborn/_decorators.py:36: FutureWarning: Pass the following variable as a keyword arg: x. From version 0.12, the only valid positional argument will be `data`, and passing other arguments without an explicit keyword will result in an error or misinterpretation.\n",
      "  warnings.warn(\n"
     ]
    },
    {
     "data": {
      "text/plain": [
       "<AxesSubplot:xlabel='Product Type', ylabel='count'>"
      ]
     },
     "execution_count": 15,
     "metadata": {},
     "output_type": "execute_result"
    },
    {
     "data": {
      "image/png": "[encoded data removed]",
      "text/plain": [
       "<Figure size 432x288 with 1 Axes>"
      ]
     },
     "metadata": {
      "needs_background": "light"
     },
     "output_type": "display_data"
    }
   ],
   "source": [
    "#data = df.groupby(df['Product Type']).count().plot(kind='bar')\n",
    "sns.countplot(df['Product Type'])"
   ]
  },
  {
   "cell_type": "code",
   "execution_count": 16,
   "id": "6e3fe71d",
   "metadata": {},
   "outputs": [
    {
     "data": {
      "text/plain": [
       "<AxesSubplot:>"
      ]
     },
     "execution_count": 16,
     "metadata": {},
     "output_type": "execute_result"
    },
    {
     "data": {
      "image/png": "[encoded data removed]",
      "text/plain": [
       "<Figure size 432x288 with 1 Axes>"
      ]
     },
     "metadata": {
      "needs_background": "light"
     },
     "output_type": "display_data"
    }
   ],
   "source": [
    "Devices = df[df['Product Type']=='Devices']\n",
    "Devices['Recalling Firm Name'].value_counts()[:20].plot(kind='barh')"
   ]
  },
  {
   "cell_type": "markdown",
   "id": "0940d3c2",
   "metadata": {},
   "source": [
    "### How many recalls does each firm have?"
   ]
  },
  {
   "cell_type": "code",
   "execution_count": 17,
   "id": "63bd1b1f",
   "metadata": {},
   "outputs": [
    {
     "data": {
      "text/plain": [
       "Zimmer Biomet, Inc.                   875\n",
       "Customed, Inc                         682\n",
       "OneBlood, Inc.                        673\n",
       "Garden-Fresh Foods, Inc.              634\n",
       "Aidapak Services, LLC                 538\n",
       "                                     ... \n",
       "Vitility                                1\n",
       "Lucky Mart Inc.                         1\n",
       "Edap Technomed Inc.                     1\n",
       "Bios S.r.l.                             1\n",
       "Diversified Natural Products, Inc.      1\n",
       "Name: Recalling Firm Name, Length: 8419, dtype: int64"
      ]
     },
     "execution_count": 17,
     "metadata": {},
     "output_type": "execute_result"
    }
   ],
   "source": [
    "data = df['Recalling Firm Name'].value_counts()\n",
    "data"
   ]
  },
  {
   "cell_type": "code",
   "execution_count": 18,
   "id": "164fcfa6",
   "metadata": {},
   "outputs": [],
   "source": [
    "#df['Recalling Firm Name'].value_counts().to_frame().style.bar()"
   ]
  },
  {
   "cell_type": "markdown",
   "id": "97c03fc1",
   "metadata": {},
   "source": [
    "### What is the severity of the reason for recall (Class I, II, III)?"
   ]
  },
  {
   "cell_type": "code",
   "execution_count": 19,
   "id": "4050d4ed",
   "metadata": {},
   "outputs": [],
   "source": [
    "class1 = df[df['Event Classification']=='Class I']\n",
    "class2 = df[df['Event Classification']=='Class II']\n",
    "class3 = df[df['Event Classification']=='Class III']"
   ]
  },
  {
   "cell_type": "code",
   "execution_count": 20,
   "id": "25ce5e90",
   "metadata": {
    "scrolled": true
   },
   "outputs": [
    {
     "data": {
      "text/plain": [
       "<AxesSubplot:xlabel='Event Classification'>"
      ]
     },
     "execution_count": 20,
     "metadata": {},
     "output_type": "execute_result"
    },
    {
     "data": {
      "image/png": "[encoded data removed]",
      "text/plain": [
       "<Figure size 432x288 with 1 Axes>"
      ]
     },
     "metadata": {
      "needs_background": "light"
     },
     "output_type": "display_data"
    }
   ],
   "source": [
    "df.groupby('Event Classification').size().plot(kind='bar')"
   ]
  },
  {
   "cell_type": "code",
   "execution_count": 21,
   "id": "13b17a0b",
   "metadata": {},
   "outputs": [],
   "source": [
    "# Which product type causes more severe (Class I & II & III) health impacts (food/cosmetics, devices, veterinary products, tobacco, and biologics)?\n"
   ]
  },
  {
   "cell_type": "code",
   "execution_count": 22,
   "id": "5460856e",
   "metadata": {},
   "outputs": [
    {
     "data": {
      "text/plain": [
       "<AxesSubplot:xlabel='Product Type', ylabel='count'>"
      ]
     },
     "execution_count": 22,
     "metadata": {},
     "output_type": "execute_result"
    },
    {
     "data": {
      "image/png": "[encoded data removed]",
      "text/plain": [
       "<Figure size 432x288 with 1 Axes>"
      ]
     },
     "metadata": {
      "needs_background": "light"
     },
     "output_type": "display_data"
    }
   ],
   "source": [
    "sns.countplot(data = df\n",
    "            ,x = 'Product Type'\n",
    "            ,hue = 'Event Classification'\n",
    "            )"
   ]
  },
  {
   "cell_type": "code",
   "execution_count": 23,
   "id": "2f9e43af",
   "metadata": {},
   "outputs": [],
   "source": [
    "# Which country has the highest recalled products?"
   ]
  },
  {
   "cell_type": "code",
   "execution_count": 32,
   "id": "5fe20695",
   "metadata": {
    "scrolled": true
   },
   "outputs": [
    {
     "data": {
      "text/plain": [
       "<AxesSubplot:>"
      ]
     },
     "execution_count": 32,
     "metadata": {},
     "output_type": "execute_result"
    },
    {
     "data": {
      "image/png": "[encoded data removed]",
      "text/plain": [
       "<Figure size 432x288 with 1 Axes>"
      ]
     },
     "metadata": {
      "needs_background": "light"
     },
     "output_type": "display_data"
    }
   ],
   "source": [
    "df['Recalling Firm Country'].value_counts().head(10).plot(kind='bar')"
   ]
  },
  {
   "cell_type": "code",
   "execution_count": 25,
   "id": "c78115f6",
   "metadata": {},
   "outputs": [],
   "source": [
    "#Indexing target variable"
   ]
  },
  {
   "cell_type": "code",
   "execution_count": 26,
   "id": "b82a2567",
   "metadata": {},
   "outputs": [],
   "source": [
    "df['Event Classification'] = df['Event Classification'].astype('category')"
   ]
  },
  {
   "cell_type": "code",
   "execution_count": 27,
   "id": "3de7cd5d",
   "metadata": {},
   "outputs": [
    {
     "data": {
      "text/plain": [
       "1    55488\n",
       "0    16280\n",
       "2     6683\n",
       "Name: Event_indexed, dtype: int64"
      ]
     },
     "execution_count": 27,
     "metadata": {},
     "output_type": "execute_result"
    }
   ],
   "source": [
    "lol = df['Event Classification'].astype('category')\n",
    "df['Event_indexed']=lol.cat.codes\n",
    "#df.drop(labels=['Event Classification'], axis=1, inplace=True)\n",
    "df['Event_indexed'].value_counts()\n",
    "#0 - Class I\n",
    "#1 - Class II\n",
    "#2 - Class III"
   ]
  },
  {
   "cell_type": "code",
   "execution_count": 28,
   "id": "7af604e4",
   "metadata": {},
   "outputs": [
    {
     "data": {
      "text/html": [
       "<div>\n",
       "<style scoped>\n",
       "    .dataframe tbody tr th:only-of-type {\n",
       "        vertical-align: middle;\n",
       "    }\n",
       "\n",
       "    .dataframe tbody tr th {\n",
       "        vertical-align: top;\n",
       "    }\n",
       "\n",
       "    .dataframe thead th {\n",
       "        text-align: right;\n",
       "    }\n",
       "</style>\n",
       "<table border=\"1\" class=\"dataframe\">\n",
       "  <thead>\n",
       "    <tr style=\"text-align: right;\">\n",
       "      <th></th>\n",
       "      <th>FEI Number</th>\n",
       "      <th>Recalling Firm Name</th>\n",
       "      <th>Product Type</th>\n",
       "      <th>Product Classification</th>\n",
       "      <th>Status</th>\n",
       "      <th>Distribution Pattern</th>\n",
       "      <th>Recalling Firm City</th>\n",
       "      <th>Recalling Firm State</th>\n",
       "      <th>Recalling Firm Country</th>\n",
       "      <th>Center Classification Date</th>\n",
       "      <th>Reason for Recall</th>\n",
       "      <th>Product Description</th>\n",
       "      <th>Event ID</th>\n",
       "      <th>Event Classification</th>\n",
       "      <th>Product ID</th>\n",
       "      <th>Center</th>\n",
       "      <th>Recall Details</th>\n",
       "      <th>Event_indexed</th>\n",
       "    </tr>\n",
       "  </thead>\n",
       "  <tbody>\n",
       "    <tr>\n",
       "      <th>0</th>\n",
       "      <td>1072425</td>\n",
       "      <td>OneBlood, Inc.</td>\n",
       "      <td>Biologics</td>\n",
       "      <td>Class II</td>\n",
       "      <td>Completed</td>\n",
       "      <td>Florida</td>\n",
       "      <td>Orlando</td>\n",
       "      <td>Florida</td>\n",
       "      <td>United States</td>\n",
       "      <td>2022-06-12</td>\n",
       "      <td>Apheresis Red Blood Cell product, for which qu...</td>\n",
       "      <td>Apheresis Red Blood Cells, Leukocytes Reduced</td>\n",
       "      <td>90354</td>\n",
       "      <td>Class II</td>\n",
       "      <td>194207</td>\n",
       "      <td>CBER</td>\n",
       "      <td>https://www.accessdata.fda.gov/scripts/ires/?P...</td>\n",
       "      <td>1</td>\n",
       "    </tr>\n",
       "    <tr>\n",
       "      <th>1</th>\n",
       "      <td>1070196</td>\n",
       "      <td>OneBlood, Inc.</td>\n",
       "      <td>Biologics</td>\n",
       "      <td>Class II</td>\n",
       "      <td>Terminated</td>\n",
       "      <td>Louisiana</td>\n",
       "      <td>St Petersburg</td>\n",
       "      <td>Florida</td>\n",
       "      <td>United States</td>\n",
       "      <td>2022-06-12</td>\n",
       "      <td>Apheresis Red Blood Cell products, for which q...</td>\n",
       "      <td>Apheresis Red Blood Cells, Leukocytes Reduced</td>\n",
       "      <td>90329</td>\n",
       "      <td>Class II</td>\n",
       "      <td>194144</td>\n",
       "      <td>CBER</td>\n",
       "      <td>https://www.accessdata.fda.gov/scripts/ires/?P...</td>\n",
       "      <td>1</td>\n",
       "    </tr>\n",
       "    <tr>\n",
       "      <th>2</th>\n",
       "      <td>1070196</td>\n",
       "      <td>OneBlood, Inc.</td>\n",
       "      <td>Biologics</td>\n",
       "      <td>Class II</td>\n",
       "      <td>Terminated</td>\n",
       "      <td>North Carolina</td>\n",
       "      <td>St Petersburg</td>\n",
       "      <td>Florida</td>\n",
       "      <td>United States</td>\n",
       "      <td>2022-06-12</td>\n",
       "      <td>Apheresis Red Blood Cell products, for which q...</td>\n",
       "      <td>Apheresis Red Blood Cells, Leukocytes Reduced</td>\n",
       "      <td>90357</td>\n",
       "      <td>Class II</td>\n",
       "      <td>194211</td>\n",
       "      <td>CBER</td>\n",
       "      <td>https://www.accessdata.fda.gov/scripts/ires/?P...</td>\n",
       "      <td>1</td>\n",
       "    </tr>\n",
       "    <tr>\n",
       "      <th>3</th>\n",
       "      <td>1626009</td>\n",
       "      <td>Oklahoma Blood Institute</td>\n",
       "      <td>Biologics</td>\n",
       "      <td>Class II</td>\n",
       "      <td>Terminated</td>\n",
       "      <td>Ohio; Oklahoma</td>\n",
       "      <td>Oklahoma City</td>\n",
       "      <td>Oklahoma</td>\n",
       "      <td>United States</td>\n",
       "      <td>2022-06-12</td>\n",
       "      <td>Blood products, for which donor eligibility wa...</td>\n",
       "      <td>Red Blood Cells, Leukocytes Reduced</td>\n",
       "      <td>90356</td>\n",
       "      <td>Class II</td>\n",
       "      <td>194209</td>\n",
       "      <td>CBER</td>\n",
       "      <td>https://www.accessdata.fda.gov/scripts/ires/?P...</td>\n",
       "      <td>1</td>\n",
       "    </tr>\n",
       "    <tr>\n",
       "      <th>4</th>\n",
       "      <td>1626009</td>\n",
       "      <td>Oklahoma Blood Institute</td>\n",
       "      <td>Biologics</td>\n",
       "      <td>Class II</td>\n",
       "      <td>Terminated</td>\n",
       "      <td>Ohio; Oklahoma</td>\n",
       "      <td>Oklahoma City</td>\n",
       "      <td>Oklahoma</td>\n",
       "      <td>United States</td>\n",
       "      <td>2022-06-12</td>\n",
       "      <td>Blood products, for which donor eligibility wa...</td>\n",
       "      <td>Cryoprecipitated AHF</td>\n",
       "      <td>90356</td>\n",
       "      <td>Class II</td>\n",
       "      <td>194210</td>\n",
       "      <td>CBER</td>\n",
       "      <td>https://www.accessdata.fda.gov/scripts/ires/?P...</td>\n",
       "      <td>1</td>\n",
       "    </tr>\n",
       "  </tbody>\n",
       "</table>\n",
       "</div>"
      ],
      "text/plain": [
       "  FEI Number       Recalling Firm Name Product Type Product Classification  \\\n",
       "0    1072425            OneBlood, Inc.    Biologics               Class II   \n",
       "1    1070196            OneBlood, Inc.    Biologics               Class II   \n",
       "2    1070196            OneBlood, Inc.    Biologics               Class II   \n",
       "3    1626009  Oklahoma Blood Institute    Biologics               Class II   \n",
       "4    1626009  Oklahoma Blood Institute    Biologics               Class II   \n",
       "\n",
       "       Status Distribution Pattern Recalling Firm City Recalling Firm State  \\\n",
       "0   Completed              Florida             Orlando              Florida   \n",
       "1  Terminated            Louisiana       St Petersburg              Florida   \n",
       "2  Terminated       North Carolina       St Petersburg              Florida   \n",
       "3  Terminated       Ohio; Oklahoma       Oklahoma City             Oklahoma   \n",
       "4  Terminated       Ohio; Oklahoma       Oklahoma City             Oklahoma   \n",
       "\n",
       "  Recalling Firm Country Center Classification Date  \\\n",
       "0          United States                 2022-06-12   \n",
       "1          United States                 2022-06-12   \n",
       "2          United States                 2022-06-12   \n",
       "3          United States                 2022-06-12   \n",
       "4          United States                 2022-06-12   \n",
       "\n",
       "                                   Reason for Recall  \\\n",
       "0  Apheresis Red Blood Cell product, for which qu...   \n",
       "1  Apheresis Red Blood Cell products, for which q...   \n",
       "2  Apheresis Red Blood Cell products, for which q...   \n",
       "3  Blood products, for which donor eligibility wa...   \n",
       "4  Blood products, for which donor eligibility wa...   \n",
       "\n",
       "                             Product Description  Event ID  \\\n",
       "0  Apheresis Red Blood Cells, Leukocytes Reduced     90354   \n",
       "1  Apheresis Red Blood Cells, Leukocytes Reduced     90329   \n",
       "2  Apheresis Red Blood Cells, Leukocytes Reduced     90357   \n",
       "3            Red Blood Cells, Leukocytes Reduced     90356   \n",
       "4                           Cryoprecipitated AHF     90356   \n",
       "\n",
       "  Event Classification  Product ID Center  \\\n",
       "0             Class II      194207   CBER   \n",
       "1             Class II      194144   CBER   \n",
       "2             Class II      194211   CBER   \n",
       "3             Class II      194209   CBER   \n",
       "4             Class II      194210   CBER   \n",
       "\n",
       "                                      Recall Details  Event_indexed  \n",
       "0  https://www.accessdata.fda.gov/scripts/ires/?P...              1  \n",
       "1  https://www.accessdata.fda.gov/scripts/ires/?P...              1  \n",
       "2  https://www.accessdata.fda.gov/scripts/ires/?P...              1  \n",
       "3  https://www.accessdata.fda.gov/scripts/ires/?P...              1  \n",
       "4  https://www.accessdata.fda.gov/scripts/ires/?P...              1  "
      ]
     },
     "execution_count": 28,
     "metadata": {},
     "output_type": "execute_result"
    }
   ],
   "source": [
    "df.head()"
   ]
  },
  {
   "cell_type": "code",
   "execution_count": 29,
   "id": "ed380257",
   "metadata": {},
   "outputs": [
    {
     "data": {
      "text/plain": [
       "Lack of Assurance of Sterility                                                                                                                                                                                                                                                                                       1429\n",
       "Product may contain undeclared milk.                                                                                                                                                                                                                                                                                  618\n",
       "Microbial contamination                                                                                                                                                                                                                                                                                               468\n",
       "Penicillin Cross Contamination: All lots of all products repackaged and distributed between 01/05/12 and 02/12/15 are being recalled because they were repackaged in a facility with penicillin products without adequate separation which could introduce the potential for cross contamination with penicillin.     463\n",
       "Lack of sterility assurance.                                                                                                                                                                                                                                                                                          432\n",
       "                                                                                                                                                                                                                                                                                                                     ... \n",
       "The device had an incorrect printed calibration value on the calibration certificate.                                                                                                                                                                                                                                   1\n",
       "CGMP Deviations: Firm failed to control impurity for color change at the API stage.                                                                                                                                                                                                                                     1\n",
       "Blood products whose relevant transfusion-transmitted infection testing was performed incorrectly, were distributed.                                                                                                                                                                                                    1\n",
       "Outer box fails to declare the allergen walnuts, the individual bar is properly labeled                                                                                                                                                                                                                                 1\n",
       "undeclared milk present in butter flavoring                                                                                                                                                                                                                                                                             1\n",
       "Name: Reason for Recall, Length: 25297, dtype: int64"
      ]
     },
     "execution_count": 29,
     "metadata": {},
     "output_type": "execute_result"
    }
   ],
   "source": [
    "df['Reason for Recall'].value_counts()"
   ]
  },
  {
   "cell_type": "code",
   "execution_count": null,
   "id": "db96fada",
   "metadata": {},
   "outputs": [],
   "source": []
  }
 ],
 "metadata": {
  "kernelspec": {
   "display_name": "Python 3.9.12 ('base')",
   "language": "python",
   "name": "python3"
  },
  "language_info": {
   "codemirror_mode": {
    "name": "ipython",
    "version": 3
   },
   "file_extension": ".py",
   "mimetype": "text/x-python",
   "name": "python",
   "nbconvert_exporter": "python",
   "pygments_lexer": "ipython3",
   "version": "3.9.12"
  },
  "vscode": {
   "interpreter": {
    "hash": "ce17c27415e5313cd54de49db3e23b7a90487c95f4edf3172481e42bb6d38379"
   }
  }
 },
 "nbformat": 4,
 "nbformat_minor": 5
}
