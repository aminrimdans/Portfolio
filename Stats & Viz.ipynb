{
 "cells": [
  {
   "cell_type": "markdown",
   "id": "0bdd3f49",
   "metadata": {},
   "source": [
    "# Project Analyzing Energy & Sustainability Trends in Sub-Saharan Africa\n",
    "\n",
    "\n",
    "\n",
    "\n",
    "## Introduction\n",
    "\n",
    "Climate change is an environmental issue at the forefront of sustainability efforts by policy and decision-makers all around the globe. They are clear about the severe implications climate change and global warming have on the survivability of the planet, and have joined the general call for a reduction in fossil-based energy consumption (Marques & Fuinhas, 2011). To combat global change, green energy or renewable energy sources have gained traction as alternatives to fossil fuels, and they present lucrative solutions for a more sustainable planet. Types of renewable energy include solar, wind, hydro, geothermal, tidal, and biomass energies (Baye et al., 2021). Fossil fuels include oil, gas, coal, and hydrocarbon fuels formed geologically over thousands of years. \n",
    "\n",
    "Sub-Saharan Africa (SSA) is the region of the world I am from—specifically, Nigeria—and this region also happens to accommodate 13% of the world’s entire population (Mohammed et al., 2013). It is obvious that such a population center—over a tenth of the world’s population—has a huge impact on climate change and could also be integral in reversing the phenomena. SSA has one of the highest potentials for renewable energy like solar due to its latitudinal position providing ample amounts of sunlight, unlike more polar regions. I am from this region and have first-hand knowledge of the oil-booming economy in countries like Nigeria and Angola. Nigeria is in the top 10 of oil-producing countries and is represented in the Organization of Petroleum Exporting Countries (OPEC), exporting crude oil worth over $45 million (OPEC ASB, 2020).\n",
    "\n",
    "Carbon-dioxide (CO2) is the most ubiquitous greenhouse gas (GHGs are gases that warm the earth’s surface; they include CO2, water vapor, methane, ozone, carbon monoxide, nitrous oxide) that not only warms the planet but leads to human health consequences. Emissions from anthropogenic energy sources are what produce the most amount of CO2 and contribute heavily to climate change. This report aims to answer the following questions:\n",
    "\n",
    " 1. What SSA countries use the most oil, gas, and coal (fossil fuels) to source their electricity production?\n",
    " \n",
    " 2. Second, and conversely, what SSA countries use the most renewable energy as their source of electricity?\n",
    " \n",
    " 3. Does higher fossil fuel consumption lead to environmental pollution that adversely impacts human health?\n",
    " \n",
    " 4. Lastly, how does a country’s economy affect carbon emissions resulting from fossil fuel consumption?\n"
   ]
  },
  {
   "cell_type": "markdown",
   "id": "b555eda1",
   "metadata": {},
   "source": [
    "## Design Process & Data ETL"
   ]
  },
  {
   "cell_type": "code",
   "execution_count": 1,
   "id": "70856f88",
   "metadata": {},
   "outputs": [],
   "source": [
    "import pandas as pd\n",
    "import matplotlib.pyplot as plt\n",
    "import seaborn as sns"
   ]
  },
  {
   "cell_type": "code",
   "execution_count": 2,
   "id": "8a521f88",
   "metadata": {},
   "outputs": [
    {
     "data": {
      "text/html": [
       "<div>\n",
       "<style scoped>\n",
       "    .dataframe tbody tr th:only-of-type {\n",
       "        vertical-align: middle;\n",
       "    }\n",
       "\n",
       "    .dataframe tbody tr th {\n",
       "        vertical-align: top;\n",
       "    }\n",
       "\n",
       "    .dataframe thead th {\n",
       "        text-align: right;\n",
       "    }\n",
       "</style>\n",
       "<table border=\"1\" class=\"dataframe\">\n",
       "  <thead>\n",
       "    <tr style=\"text-align: right;\">\n",
       "      <th></th>\n",
       "      <th>Year</th>\n",
       "      <th>value</th>\n",
       "      <th>indicator</th>\n",
       "      <th>Country Code</th>\n",
       "      <th>Country Name</th>\n",
       "      <th>Region</th>\n",
       "      <th>Income Group</th>\n",
       "      <th>Lending Type</th>\n",
       "    </tr>\n",
       "  </thead>\n",
       "  <tbody>\n",
       "    <tr>\n",
       "      <th>0</th>\n",
       "      <td>2009</td>\n",
       "      <td>22514275.0</td>\n",
       "      <td>SP.POP.TOTL</td>\n",
       "      <td>AGO</td>\n",
       "      <td>Angola</td>\n",
       "      <td>Sub-Saharan Africa</td>\n",
       "      <td>Lower middle income</td>\n",
       "      <td>IBRD</td>\n",
       "    </tr>\n",
       "    <tr>\n",
       "      <th>1</th>\n",
       "      <td>2010</td>\n",
       "      <td>23356247.0</td>\n",
       "      <td>SP.POP.TOTL</td>\n",
       "      <td>AGO</td>\n",
       "      <td>Angola</td>\n",
       "      <td>Sub-Saharan Africa</td>\n",
       "      <td>Lower middle income</td>\n",
       "      <td>IBRD</td>\n",
       "    </tr>\n",
       "    <tr>\n",
       "      <th>2</th>\n",
       "      <td>2011</td>\n",
       "      <td>24220660.0</td>\n",
       "      <td>SP.POP.TOTL</td>\n",
       "      <td>AGO</td>\n",
       "      <td>Angola</td>\n",
       "      <td>Sub-Saharan Africa</td>\n",
       "      <td>Lower middle income</td>\n",
       "      <td>IBRD</td>\n",
       "    </tr>\n",
       "    <tr>\n",
       "      <th>3</th>\n",
       "      <td>2012</td>\n",
       "      <td>25107925.0</td>\n",
       "      <td>SP.POP.TOTL</td>\n",
       "      <td>AGO</td>\n",
       "      <td>Angola</td>\n",
       "      <td>Sub-Saharan Africa</td>\n",
       "      <td>Lower middle income</td>\n",
       "      <td>IBRD</td>\n",
       "    </tr>\n",
       "    <tr>\n",
       "      <th>4</th>\n",
       "      <td>2013</td>\n",
       "      <td>26015786.0</td>\n",
       "      <td>SP.POP.TOTL</td>\n",
       "      <td>AGO</td>\n",
       "      <td>Angola</td>\n",
       "      <td>Sub-Saharan Africa</td>\n",
       "      <td>Lower middle income</td>\n",
       "      <td>IBRD</td>\n",
       "    </tr>\n",
       "  </tbody>\n",
       "</table>\n",
       "</div>"
      ],
      "text/plain": [
       "   Year       value    indicator Country Code Country Name  \\\n",
       "0  2009  22514275.0  SP.POP.TOTL          AGO       Angola   \n",
       "1  2010  23356247.0  SP.POP.TOTL          AGO       Angola   \n",
       "2  2011  24220660.0  SP.POP.TOTL          AGO       Angola   \n",
       "3  2012  25107925.0  SP.POP.TOTL          AGO       Angola   \n",
       "4  2013  26015786.0  SP.POP.TOTL          AGO       Angola   \n",
       "\n",
       "                Region         Income Group Lending Type  \n",
       "0  Sub-Saharan Africa   Lower middle income         IBRD  \n",
       "1  Sub-Saharan Africa   Lower middle income         IBRD  \n",
       "2  Sub-Saharan Africa   Lower middle income         IBRD  \n",
       "3  Sub-Saharan Africa   Lower middle income         IBRD  \n",
       "4  Sub-Saharan Africa   Lower middle income         IBRD  "
      ]
     },
     "execution_count": 2,
     "metadata": {},
     "output_type": "execute_result"
    }
   ],
   "source": [
    "file = pd.read_csv('/Users/aminrimdans/Downloads/wdi_data.csv', index_col=0)\n",
    "rawdata = file.copy() #created copy to avoid changing original dataset\n",
    "rawdata.head()"
   ]
  },
  {
   "cell_type": "code",
   "execution_count": 3,
   "id": "cfb91582",
   "metadata": {},
   "outputs": [
    {
     "name": "stdout",
     "output_type": "stream",
     "text": [
      "<class 'pandas.core.frame.DataFrame'>\n",
      "Int64Index: 1340 entries, 0 to 1339\n",
      "Data columns (total 8 columns):\n",
      " #   Column        Non-Null Count  Dtype  \n",
      "---  ------        --------------  -----  \n",
      " 0   Year          1340 non-null   int64  \n",
      " 1   value         1340 non-null   float64\n",
      " 2   indicator     1340 non-null   object \n",
      " 3   Country Code  1340 non-null   object \n",
      " 4   Country Name  1340 non-null   object \n",
      " 5   Region        1340 non-null   object \n",
      " 6   Income Group  1340 non-null   object \n",
      " 7   Lending Type  1340 non-null   object \n",
      "dtypes: float64(1), int64(1), object(6)\n",
      "memory usage: 94.2+ KB\n"
     ]
    }
   ],
   "source": [
    "rawdata.info()\n",
    "#no null values and \"Year\" and \"value\" columns which contain numbers are numeric data types"
   ]
  },
  {
   "cell_type": "markdown",
   "id": "2007bd6e",
   "metadata": {},
   "source": [
    "#### NOTE\n",
    "Dataset should have 5 unique indicators based on my choice from the WDI website but the raw data isn't \n",
    "structured in this manner. It uses a generic \"indicator\" and \"value\" column and concatenates all data into \n",
    "rows, hence, 1340 rows. Even though the data covers years 2009-2015, there are only 48 countries in sub-Saharan \n",
    "Africa (see cell 5). Below (in cell 8), I will be slicing out each of my 5 unique indicators into separate \n",
    "dataframes that I can later join.\n",
    "\n"
   ]
  },
  {
   "cell_type": "code",
   "execution_count": 4,
   "id": "cb4f021d",
   "metadata": {},
   "outputs": [
    {
     "data": {
      "text/plain": [
       "48"
      ]
     },
     "execution_count": 4,
     "metadata": {},
     "output_type": "execute_result"
    }
   ],
   "source": [
    "#number of countries in sub-Saharan Africa\n",
    "len(rawdata['Country Name'].unique())"
   ]
  },
  {
   "cell_type": "code",
   "execution_count": 5,
   "id": "9395e518",
   "metadata": {},
   "outputs": [
    {
     "data": {
      "text/plain": [
       "(5,\n",
       " array(['SP.POP.TOTL', 'EG.ELC.FOSL.ZS', 'EG.ELC.RNWX.ZS',\n",
       "        'EN.ATM.CO2E.KT', 'NY.GDP.PCAP.PP.CD'], dtype=object))"
      ]
     },
     "execution_count": 5,
     "metadata": {},
     "output_type": "execute_result"
    }
   ],
   "source": [
    "#confirming my number of unique indicators and what those indicators are\n",
    "len(rawdata['indicator'].unique()), rawdata['indicator'].unique()"
   ]
  },
  {
   "cell_type": "code",
   "execution_count": 6,
   "id": "2f29a29a",
   "metadata": {},
   "outputs": [
    {
     "data": {
      "text/html": [
       "<div>\n",
       "<style scoped>\n",
       "    .dataframe tbody tr th:only-of-type {\n",
       "        vertical-align: middle;\n",
       "    }\n",
       "\n",
       "    .dataframe tbody tr th {\n",
       "        vertical-align: top;\n",
       "    }\n",
       "\n",
       "    .dataframe thead th {\n",
       "        text-align: right;\n",
       "    }\n",
       "</style>\n",
       "<table border=\"1\" class=\"dataframe\">\n",
       "  <thead>\n",
       "    <tr style=\"text-align: right;\">\n",
       "      <th></th>\n",
       "      <th>year</th>\n",
       "      <th>value</th>\n",
       "      <th>indicator</th>\n",
       "      <th>country</th>\n",
       "    </tr>\n",
       "  </thead>\n",
       "  <tbody>\n",
       "    <tr>\n",
       "      <th>0</th>\n",
       "      <td>2009</td>\n",
       "      <td>22514275.0</td>\n",
       "      <td>SP.POP.TOTL</td>\n",
       "      <td>Angola</td>\n",
       "    </tr>\n",
       "    <tr>\n",
       "      <th>1</th>\n",
       "      <td>2010</td>\n",
       "      <td>23356247.0</td>\n",
       "      <td>SP.POP.TOTL</td>\n",
       "      <td>Angola</td>\n",
       "    </tr>\n",
       "    <tr>\n",
       "      <th>2</th>\n",
       "      <td>2011</td>\n",
       "      <td>24220660.0</td>\n",
       "      <td>SP.POP.TOTL</td>\n",
       "      <td>Angola</td>\n",
       "    </tr>\n",
       "    <tr>\n",
       "      <th>3</th>\n",
       "      <td>2012</td>\n",
       "      <td>25107925.0</td>\n",
       "      <td>SP.POP.TOTL</td>\n",
       "      <td>Angola</td>\n",
       "    </tr>\n",
       "    <tr>\n",
       "      <th>4</th>\n",
       "      <td>2013</td>\n",
       "      <td>26015786.0</td>\n",
       "      <td>SP.POP.TOTL</td>\n",
       "      <td>Angola</td>\n",
       "    </tr>\n",
       "  </tbody>\n",
       "</table>\n",
       "</div>"
      ],
      "text/plain": [
       "   year       value    indicator country\n",
       "0  2009  22514275.0  SP.POP.TOTL  Angola\n",
       "1  2010  23356247.0  SP.POP.TOTL  Angola\n",
       "2  2011  24220660.0  SP.POP.TOTL  Angola\n",
       "3  2012  25107925.0  SP.POP.TOTL  Angola\n",
       "4  2013  26015786.0  SP.POP.TOTL  Angola"
      ]
     },
     "execution_count": 6,
     "metadata": {},
     "output_type": "execute_result"
    }
   ],
   "source": [
    "#renaming columns for ease and removing columns I don't need for analysis\n",
    "rawdata.rename(columns={'Year':'year','Country Name':'country'}, inplace=True)\n",
    "rawdata=rawdata.drop(columns=['Country Code','Region','Lending Type','Income Group'],axis=1)\n",
    "rawdata.head()"
   ]
  },
  {
   "cell_type": "code",
   "execution_count": 7,
   "id": "d6f39775",
   "metadata": {},
   "outputs": [],
   "source": [
    "#dataset is concatenated so I'm slicing out each unique indicator into separate dataframes that I can later join\n",
    "population = rawdata[rawdata['indicator']=='SP.POP.TOTL']\n",
    "gdp_per_capita = rawdata[rawdata['indicator']=='NY.GDP.PCAP.PP.CD']\n",
    "co2 = rawdata[rawdata['indicator']=='EN.ATM.CO2E.KT']\n",
    "renewables = rawdata[rawdata['indicator']=='EG.ELC.RNWX.ZS']\n",
    "fossils = rawdata[rawdata['indicator']=='EG.ELC.FOSL.ZS']"
   ]
  },
  {
   "cell_type": "code",
   "execution_count": 8,
   "id": "b6b6ab44",
   "metadata": {
    "scrolled": true
   },
   "outputs": [
    {
     "name": "stderr",
     "output_type": "stream",
     "text": [
      "/Applications/anaconda3/lib/python3.8/site-packages/pandas/core/frame.py:4441: SettingWithCopyWarning: \n",
      "A value is trying to be set on a copy of a slice from a DataFrame\n",
      "\n",
      "See the caveats in the documentation: https://pandas.pydata.org/pandas-docs/stable/user_guide/indexing.html#returning-a-view-versus-a-copy\n",
      "  return super().rename(\n"
     ]
    }
   ],
   "source": [
    "#warning about changing value of slice of copy is noted. I created a copy in the beginning to avoid changing orig.\n",
    "\n",
    "'''The \"indicator\" column is still present but after slicing, I don't need it as it is irrelevant to any \n",
    "analysis. Also, for better clarity, I will rename each dataframe's \"value\" column to reflect a more specific\n",
    "name then drop the repetitive indicator column. See code below.\n",
    "'''\n",
    "population.rename(columns={'value':'population'}, inplace=True)\n",
    "population=population.drop(columns='indicator')\n",
    "gdp_per_capita.rename(columns={'value':'GDP/capita ($)'}, inplace=True)\n",
    "gdp_per_capita=gdp_per_capita.drop(columns='indicator')\n",
    "co2.rename(columns={'value':'CO2_emission (kt)'}, inplace=True)\n",
    "co2=co2.drop(columns='indicator')\n",
    "renewables.rename(columns={'value':'% renewables'}, inplace=True)\n",
    "renewables=renewables.drop(columns='indicator')\n",
    "fossils.rename(columns={'value':'% fossil fuel'}, inplace=True)\n",
    "fossils=fossils.drop(columns='indicator')"
   ]
  },
  {
   "cell_type": "code",
   "execution_count": 9,
   "id": "4b84125b",
   "metadata": {
    "scrolled": true
   },
   "outputs": [
    {
     "data": {
      "text/html": [
       "<div>\n",
       "<style scoped>\n",
       "    .dataframe tbody tr th:only-of-type {\n",
       "        vertical-align: middle;\n",
       "    }\n",
       "\n",
       "    .dataframe tbody tr th {\n",
       "        vertical-align: top;\n",
       "    }\n",
       "\n",
       "    .dataframe thead th {\n",
       "        text-align: right;\n",
       "    }\n",
       "</style>\n",
       "<table border=\"1\" class=\"dataframe\">\n",
       "  <thead>\n",
       "    <tr style=\"text-align: right;\">\n",
       "      <th></th>\n",
       "      <th>year</th>\n",
       "      <th>population</th>\n",
       "      <th>country</th>\n",
       "    </tr>\n",
       "  </thead>\n",
       "  <tbody>\n",
       "    <tr>\n",
       "      <th>0</th>\n",
       "      <td>2009</td>\n",
       "      <td>22514275.0</td>\n",
       "      <td>Angola</td>\n",
       "    </tr>\n",
       "    <tr>\n",
       "      <th>1</th>\n",
       "      <td>2010</td>\n",
       "      <td>23356247.0</td>\n",
       "      <td>Angola</td>\n",
       "    </tr>\n",
       "    <tr>\n",
       "      <th>2</th>\n",
       "      <td>2011</td>\n",
       "      <td>24220660.0</td>\n",
       "      <td>Angola</td>\n",
       "    </tr>\n",
       "    <tr>\n",
       "      <th>3</th>\n",
       "      <td>2012</td>\n",
       "      <td>25107925.0</td>\n",
       "      <td>Angola</td>\n",
       "    </tr>\n",
       "    <tr>\n",
       "      <th>4</th>\n",
       "      <td>2013</td>\n",
       "      <td>26015786.0</td>\n",
       "      <td>Angola</td>\n",
       "    </tr>\n",
       "  </tbody>\n",
       "</table>\n",
       "</div>"
      ],
      "text/plain": [
       "   year  population country\n",
       "0  2009  22514275.0  Angola\n",
       "1  2010  23356247.0  Angola\n",
       "2  2011  24220660.0  Angola\n",
       "3  2012  25107925.0  Angola\n",
       "4  2013  26015786.0  Angola"
      ]
     },
     "execution_count": 9,
     "metadata": {},
     "output_type": "execute_result"
    }
   ],
   "source": [
    "#sample check to confirm renaming and dropped column\n",
    "population.head()"
   ]
  },
  {
   "cell_type": "code",
   "execution_count": 10,
   "id": "0542a815",
   "metadata": {
    "scrolled": true
   },
   "outputs": [
    {
     "data": {
      "text/html": [
       "<div>\n",
       "<style scoped>\n",
       "    .dataframe tbody tr th:only-of-type {\n",
       "        vertical-align: middle;\n",
       "    }\n",
       "\n",
       "    .dataframe tbody tr th {\n",
       "        vertical-align: top;\n",
       "    }\n",
       "\n",
       "    .dataframe thead th {\n",
       "        text-align: right;\n",
       "    }\n",
       "</style>\n",
       "<table border=\"1\" class=\"dataframe\">\n",
       "  <thead>\n",
       "    <tr style=\"text-align: right;\">\n",
       "      <th></th>\n",
       "      <th>year</th>\n",
       "      <th>country</th>\n",
       "      <th>population</th>\n",
       "      <th>GDP/capita ($)</th>\n",
       "      <th>CO2_emission (kt)</th>\n",
       "      <th>% renewables</th>\n",
       "      <th>% fossil fuel</th>\n",
       "    </tr>\n",
       "  </thead>\n",
       "  <tbody>\n",
       "    <tr>\n",
       "      <th>0</th>\n",
       "      <td>2009</td>\n",
       "      <td>Angola</td>\n",
       "      <td>22514275.0</td>\n",
       "      <td>6470.675244</td>\n",
       "      <td>27150.0</td>\n",
       "      <td>0.0</td>\n",
       "      <td>34.656811</td>\n",
       "    </tr>\n",
       "    <tr>\n",
       "      <th>1</th>\n",
       "      <td>2010</td>\n",
       "      <td>Angola</td>\n",
       "      <td>23356247.0</td>\n",
       "      <td>6587.986939</td>\n",
       "      <td>28530.0</td>\n",
       "      <td>0.0</td>\n",
       "      <td>32.042577</td>\n",
       "    </tr>\n",
       "    <tr>\n",
       "      <th>2</th>\n",
       "      <td>2011</td>\n",
       "      <td>Angola</td>\n",
       "      <td>24220660.0</td>\n",
       "      <td>6710.750623</td>\n",
       "      <td>29460.0</td>\n",
       "      <td>0.0</td>\n",
       "      <td>29.092196</td>\n",
       "    </tr>\n",
       "    <tr>\n",
       "      <th>3</th>\n",
       "      <td>2012</td>\n",
       "      <td>Angola</td>\n",
       "      <td>25107925.0</td>\n",
       "      <td>7412.967035</td>\n",
       "      <td>30250.0</td>\n",
       "      <td>0.0</td>\n",
       "      <td>39.200516</td>\n",
       "    </tr>\n",
       "    <tr>\n",
       "      <th>4</th>\n",
       "      <td>2013</td>\n",
       "      <td>Angola</td>\n",
       "      <td>26015786.0</td>\n",
       "      <td>7682.475386</td>\n",
       "      <td>32820.0</td>\n",
       "      <td>0.0</td>\n",
       "      <td>41.979065</td>\n",
       "    </tr>\n",
       "  </tbody>\n",
       "</table>\n",
       "</div>"
      ],
      "text/plain": [
       "   year country  population  GDP/capita ($)  CO2_emission (kt)  % renewables  \\\n",
       "0  2009  Angola  22514275.0     6470.675244            27150.0           0.0   \n",
       "1  2010  Angola  23356247.0     6587.986939            28530.0           0.0   \n",
       "2  2011  Angola  24220660.0     6710.750623            29460.0           0.0   \n",
       "3  2012  Angola  25107925.0     7412.967035            30250.0           0.0   \n",
       "4  2013  Angola  26015786.0     7682.475386            32820.0           0.0   \n",
       "\n",
       "   % fossil fuel  \n",
       "0      34.656811  \n",
       "1      32.042577  \n",
       "2      29.092196  \n",
       "3      39.200516  \n",
       "4      41.979065  "
      ]
     },
     "execution_count": 10,
     "metadata": {},
     "output_type": "execute_result"
    }
   ],
   "source": [
    "#My indicators are still in separate dataframes so I'm using a function to join them all into a single dataframe\n",
    "dfs=[population,gdp_per_capita,co2,renewables,fossils]\n",
    "def merger():\n",
    "    df=pd.DataFrame(data=population[['year','country']])\n",
    "    for i in dfs:\n",
    "        df=pd.merge(df, i, how='outer', on=['year','country'])\n",
    "    return df\n",
    "df = merger()\n",
    "df.head()"
   ]
  },
  {
   "cell_type": "code",
   "execution_count": 11,
   "id": "dede04b9",
   "metadata": {},
   "outputs": [
    {
     "name": "stdout",
     "output_type": "stream",
     "text": [
      "<class 'pandas.core.frame.DataFrame'>\n",
      "Int64Index: 336 entries, 0 to 335\n",
      "Data columns (total 7 columns):\n",
      " #   Column             Non-Null Count  Dtype  \n",
      "---  ------             --------------  -----  \n",
      " 0   year               336 non-null    int64  \n",
      " 1   country            336 non-null    object \n",
      " 2   population         332 non-null    float64\n",
      " 3   GDP/capita ($)     328 non-null    float64\n",
      " 4   CO2_emission (kt)  336 non-null    float64\n",
      " 5   % renewables       172 non-null    float64\n",
      " 6   % fossil fuel      172 non-null    float64\n",
      "dtypes: float64(5), int64(1), object(1)\n",
      "memory usage: 21.0+ KB\n"
     ]
    }
   ],
   "source": [
    "df.info()\n",
    "#All columns containing numbers are float type\n",
    "#Population data is missing for 4 out of 336 entries; GDP data is missing for 8 out of 336\n",
    "#Energy data on % renewables and % fossil fuels is only available for 172 of 336 entries"
   ]
  },
  {
   "cell_type": "code",
   "execution_count": 12,
   "id": "6ed76237",
   "metadata": {},
   "outputs": [
    {
     "name": "stdout",
     "output_type": "stream",
     "text": [
      "Fossil fuel and renewables data is only availalbe in 25 of 48 sub-Saharan countries.\n"
     ]
    },
    {
     "data": {
      "text/plain": [
       "(25, 25, None)"
      ]
     },
     "execution_count": 12,
     "metadata": {},
     "output_type": "execute_result"
    }
   ],
   "source": [
    "x=df[df['% renewables'].isnull()==False]  #entries where % renewables data is available\n",
    "x1=len(x['country'].unique())             #number of unique countries with the available data\n",
    "\n",
    "x2=df[df['% fossil fuel'].isnull()==False]  #entries where % fossil fuel data is available\n",
    "x3=len(x['country'].unique())               #number of unique countries with the available data\n",
    "\n",
    "x1,x3, print('Fossil fuel and renewables data is only availalbe in 25 of 48 sub-Saharan countries.')"
   ]
  },
  {
   "cell_type": "code",
   "execution_count": 13,
   "id": "884f1c0e",
   "metadata": {},
   "outputs": [
    {
     "data": {
      "text/html": [
       "<div>\n",
       "<style scoped>\n",
       "    .dataframe tbody tr th:only-of-type {\n",
       "        vertical-align: middle;\n",
       "    }\n",
       "\n",
       "    .dataframe tbody tr th {\n",
       "        vertical-align: top;\n",
       "    }\n",
       "\n",
       "    .dataframe thead th {\n",
       "        text-align: right;\n",
       "    }\n",
       "</style>\n",
       "<table border=\"1\" class=\"dataframe\">\n",
       "  <thead>\n",
       "    <tr style=\"text-align: right;\">\n",
       "      <th></th>\n",
       "      <th>year</th>\n",
       "      <th>country</th>\n",
       "      <th>population</th>\n",
       "      <th>GDP/capita ($)</th>\n",
       "      <th>CO2_emission (kt)</th>\n",
       "      <th>% renewables</th>\n",
       "      <th>% fossil fuel</th>\n",
       "    </tr>\n",
       "  </thead>\n",
       "  <tbody>\n",
       "    <tr>\n",
       "      <th>269</th>\n",
       "      <td>2009</td>\n",
       "      <td>Somalia</td>\n",
       "      <td>11717691.0</td>\n",
       "      <td>NaN</td>\n",
       "      <td>610.0</td>\n",
       "      <td>NaN</td>\n",
       "      <td>NaN</td>\n",
       "    </tr>\n",
       "    <tr>\n",
       "      <th>270</th>\n",
       "      <td>2010</td>\n",
       "      <td>Somalia</td>\n",
       "      <td>12043886.0</td>\n",
       "      <td>NaN</td>\n",
       "      <td>630.0</td>\n",
       "      <td>NaN</td>\n",
       "      <td>NaN</td>\n",
       "    </tr>\n",
       "    <tr>\n",
       "      <th>271</th>\n",
       "      <td>2011</td>\n",
       "      <td>Somalia</td>\n",
       "      <td>12376305.0</td>\n",
       "      <td>NaN</td>\n",
       "      <td>630.0</td>\n",
       "      <td>NaN</td>\n",
       "      <td>NaN</td>\n",
       "    </tr>\n",
       "    <tr>\n",
       "      <th>272</th>\n",
       "      <td>2012</td>\n",
       "      <td>Somalia</td>\n",
       "      <td>12715487.0</td>\n",
       "      <td>NaN</td>\n",
       "      <td>630.0</td>\n",
       "      <td>NaN</td>\n",
       "      <td>NaN</td>\n",
       "    </tr>\n",
       "    <tr>\n",
       "      <th>332</th>\n",
       "      <td>2012</td>\n",
       "      <td>Eritrea</td>\n",
       "      <td>NaN</td>\n",
       "      <td>NaN</td>\n",
       "      <td>630.0</td>\n",
       "      <td>0.557103</td>\n",
       "      <td>99.442897</td>\n",
       "    </tr>\n",
       "    <tr>\n",
       "      <th>333</th>\n",
       "      <td>2013</td>\n",
       "      <td>Eritrea</td>\n",
       "      <td>NaN</td>\n",
       "      <td>NaN</td>\n",
       "      <td>650.0</td>\n",
       "      <td>0.540541</td>\n",
       "      <td>99.459459</td>\n",
       "    </tr>\n",
       "    <tr>\n",
       "      <th>334</th>\n",
       "      <td>2014</td>\n",
       "      <td>Eritrea</td>\n",
       "      <td>NaN</td>\n",
       "      <td>NaN</td>\n",
       "      <td>680.0</td>\n",
       "      <td>0.515464</td>\n",
       "      <td>99.484536</td>\n",
       "    </tr>\n",
       "    <tr>\n",
       "      <th>335</th>\n",
       "      <td>2015</td>\n",
       "      <td>Eritrea</td>\n",
       "      <td>NaN</td>\n",
       "      <td>NaN</td>\n",
       "      <td>650.0</td>\n",
       "      <td>0.492611</td>\n",
       "      <td>99.507389</td>\n",
       "    </tr>\n",
       "  </tbody>\n",
       "</table>\n",
       "</div>"
      ],
      "text/plain": [
       "     year  country  population  GDP/capita ($)  CO2_emission (kt)  \\\n",
       "269  2009  Somalia  11717691.0             NaN              610.0   \n",
       "270  2010  Somalia  12043886.0             NaN              630.0   \n",
       "271  2011  Somalia  12376305.0             NaN              630.0   \n",
       "272  2012  Somalia  12715487.0             NaN              630.0   \n",
       "332  2012  Eritrea         NaN             NaN              630.0   \n",
       "333  2013  Eritrea         NaN             NaN              650.0   \n",
       "334  2014  Eritrea         NaN             NaN              680.0   \n",
       "335  2015  Eritrea         NaN             NaN              650.0   \n",
       "\n",
       "     % renewables  % fossil fuel  \n",
       "269           NaN            NaN  \n",
       "270           NaN            NaN  \n",
       "271           NaN            NaN  \n",
       "272           NaN            NaN  \n",
       "332      0.557103      99.442897  \n",
       "333      0.540541      99.459459  \n",
       "334      0.515464      99.484536  \n",
       "335      0.492611      99.507389  "
      ]
     },
     "execution_count": 13,
     "metadata": {},
     "output_type": "execute_result"
    }
   ],
   "source": [
    "df[df['GDP/capita ($)'].isnull()]\n",
    "#Eritrea is missing population data and Somalia is missing both population and GDP data"
   ]
  },
  {
   "cell_type": "code",
   "execution_count": 14,
   "id": "904c7544",
   "metadata": {},
   "outputs": [
    {
     "data": {
      "text/html": [
       "<div>\n",
       "<style scoped>\n",
       "    .dataframe tbody tr th:only-of-type {\n",
       "        vertical-align: middle;\n",
       "    }\n",
       "\n",
       "    .dataframe tbody tr th {\n",
       "        vertical-align: top;\n",
       "    }\n",
       "\n",
       "    .dataframe thead th {\n",
       "        text-align: right;\n",
       "    }\n",
       "</style>\n",
       "<table border=\"1\" class=\"dataframe\">\n",
       "  <thead>\n",
       "    <tr style=\"text-align: right;\">\n",
       "      <th></th>\n",
       "      <th>year</th>\n",
       "      <th>population</th>\n",
       "      <th>GDP/capita ($)</th>\n",
       "      <th>CO2_emission (kt)</th>\n",
       "      <th>% renewables</th>\n",
       "      <th>% fossil fuel</th>\n",
       "    </tr>\n",
       "  </thead>\n",
       "  <tbody>\n",
       "    <tr>\n",
       "      <th>count</th>\n",
       "      <td>336.000000</td>\n",
       "      <td>3.320000e+02</td>\n",
       "      <td>328.000000</td>\n",
       "      <td>336.000000</td>\n",
       "      <td>172.000000</td>\n",
       "      <td>172.000000</td>\n",
       "    </tr>\n",
       "    <tr>\n",
       "      <th>mean</th>\n",
       "      <td>2012.000000</td>\n",
       "      <td>1.933651e+07</td>\n",
       "      <td>4829.196154</td>\n",
       "      <td>15253.750000</td>\n",
       "      <td>2.624434</td>\n",
       "      <td>50.097764</td>\n",
       "    </tr>\n",
       "    <tr>\n",
       "      <th>std</th>\n",
       "      <td>2.002983</td>\n",
       "      <td>2.887559e+07</td>\n",
       "      <td>6339.358581</td>\n",
       "      <td>61714.440635</td>\n",
       "      <td>7.088229</td>\n",
       "      <td>36.719654</td>\n",
       "    </tr>\n",
       "    <tr>\n",
       "      <th>min</th>\n",
       "      <td>2009.000000</td>\n",
       "      <td>8.729800e+04</td>\n",
       "      <td>604.844173</td>\n",
       "      <td>0.000000</td>\n",
       "      <td>0.000000</td>\n",
       "      <td>0.031529</td>\n",
       "    </tr>\n",
       "    <tr>\n",
       "      <th>25%</th>\n",
       "      <td>2010.000000</td>\n",
       "      <td>2.087929e+06</td>\n",
       "      <td>1493.799742</td>\n",
       "      <td>817.500000</td>\n",
       "      <td>0.000000</td>\n",
       "      <td>16.800558</td>\n",
       "    </tr>\n",
       "    <tr>\n",
       "      <th>50%</th>\n",
       "      <td>2012.000000</td>\n",
       "      <td>1.085218e+07</td>\n",
       "      <td>2389.984814</td>\n",
       "      <td>2730.000000</td>\n",
       "      <td>0.445199</td>\n",
       "      <td>45.935331</td>\n",
       "    </tr>\n",
       "    <tr>\n",
       "      <th>75%</th>\n",
       "      <td>2014.000000</td>\n",
       "      <td>2.254762e+07</td>\n",
       "      <td>4965.283533</td>\n",
       "      <td>7037.500000</td>\n",
       "      <td>1.210621</td>\n",
       "      <td>86.988297</td>\n",
       "    </tr>\n",
       "    <tr>\n",
       "      <th>max</th>\n",
       "      <td>2015.000000</td>\n",
       "      <td>1.811375e+08</td>\n",
       "      <td>37570.635397</td>\n",
       "      <td>447980.000000</td>\n",
       "      <td>48.274790</td>\n",
       "      <td>100.000000</td>\n",
       "    </tr>\n",
       "  </tbody>\n",
       "</table>\n",
       "</div>"
      ],
      "text/plain": [
       "              year    population  GDP/capita ($)  CO2_emission (kt)  \\\n",
       "count   336.000000  3.320000e+02      328.000000         336.000000   \n",
       "mean   2012.000000  1.933651e+07     4829.196154       15253.750000   \n",
       "std       2.002983  2.887559e+07     6339.358581       61714.440635   \n",
       "min    2009.000000  8.729800e+04      604.844173           0.000000   \n",
       "25%    2010.000000  2.087929e+06     1493.799742         817.500000   \n",
       "50%    2012.000000  1.085218e+07     2389.984814        2730.000000   \n",
       "75%    2014.000000  2.254762e+07     4965.283533        7037.500000   \n",
       "max    2015.000000  1.811375e+08    37570.635397      447980.000000   \n",
       "\n",
       "       % renewables  % fossil fuel  \n",
       "count    172.000000     172.000000  \n",
       "mean       2.624434      50.097764  \n",
       "std        7.088229      36.719654  \n",
       "min        0.000000       0.031529  \n",
       "25%        0.000000      16.800558  \n",
       "50%        0.445199      45.935331  \n",
       "75%        1.210621      86.988297  \n",
       "max       48.274790     100.000000  "
      ]
     },
     "execution_count": 14,
     "metadata": {},
     "output_type": "execute_result"
    }
   ],
   "source": [
    "#sanity check on my final dataset\n",
    "df.describe()\n",
    "#min and max values for year is within 2009-2015 range, as expected\n",
    "#% fossil fuel and % renewables are within 0-100%"
   ]
  },
  {
   "cell_type": "code",
   "execution_count": 15,
   "id": "f6036254",
   "metadata": {
    "scrolled": true
   },
   "outputs": [
    {
     "data": {
      "text/html": [
       "<div>\n",
       "<style scoped>\n",
       "    .dataframe tbody tr th:only-of-type {\n",
       "        vertical-align: middle;\n",
       "    }\n",
       "\n",
       "    .dataframe tbody tr th {\n",
       "        vertical-align: top;\n",
       "    }\n",
       "\n",
       "    .dataframe thead th {\n",
       "        text-align: right;\n",
       "    }\n",
       "</style>\n",
       "<table border=\"1\" class=\"dataframe\">\n",
       "  <thead>\n",
       "    <tr style=\"text-align: right;\">\n",
       "      <th></th>\n",
       "      <th>year</th>\n",
       "      <th>% fossil fuel</th>\n",
       "      <th>Country Name</th>\n",
       "    </tr>\n",
       "  </thead>\n",
       "  <tbody>\n",
       "    <tr>\n",
       "      <th>0</th>\n",
       "      <td>2009</td>\n",
       "      <td>99.218750</td>\n",
       "      <td>Benin</td>\n",
       "    </tr>\n",
       "    <tr>\n",
       "      <th>1</th>\n",
       "      <td>2010</td>\n",
       "      <td>99.130435</td>\n",
       "      <td>Benin</td>\n",
       "    </tr>\n",
       "    <tr>\n",
       "      <th>2</th>\n",
       "      <td>2011</td>\n",
       "      <td>100.000000</td>\n",
       "      <td>Benin</td>\n",
       "    </tr>\n",
       "    <tr>\n",
       "      <th>3</th>\n",
       "      <td>2012</td>\n",
       "      <td>100.000000</td>\n",
       "      <td>Benin</td>\n",
       "    </tr>\n",
       "    <tr>\n",
       "      <th>4</th>\n",
       "      <td>2013</td>\n",
       "      <td>100.000000</td>\n",
       "      <td>Benin</td>\n",
       "    </tr>\n",
       "  </tbody>\n",
       "</table>\n",
       "</div>"
      ],
      "text/plain": [
       "   year  % fossil fuel Country Name\n",
       "0  2009      99.218750        Benin\n",
       "1  2010      99.130435        Benin\n",
       "2  2011     100.000000        Benin\n",
       "3  2012     100.000000        Benin\n",
       "4  2013     100.000000        Benin"
      ]
     },
     "execution_count": 15,
     "metadata": {},
     "output_type": "execute_result"
    }
   ],
   "source": [
    "#loading and transforming data for fossil fuels\n",
    "fossils = pd.read_csv('/Users/aminrimdans/Downloads/wdi_data-3.csv',usecols=['Year','value','Country Name'])\n",
    "#fossils.info()\n",
    "fossils.rename(columns={'value':'% fossil fuel','Year':'year'}, inplace=True)\n",
    "fossils.head()"
   ]
  },
  {
   "cell_type": "code",
   "execution_count": 16,
   "id": "9ab42b56",
   "metadata": {},
   "outputs": [],
   "source": [
    "#filtering fossils data by country\n",
    "\n",
    "Benin=fossils[fossils['Country Name']=='Benin']\n",
    "Botswana=fossils[fossils['Country Name']=='Botswana']\n",
    "Cote_d_Ivoire=fossils[fossils['Country Name']==\"Cote d'Ivoire\"]\n",
    "Eritrea=fossils[fossils['Country Name']=='Eritrea']\n",
    "Mauritius=fossils[fossils['Country Name']=='Mauritius']\n",
    "Niger=fossils[fossils['Country Name']=='Niger']\n",
    "Nigeria=fossils[fossils['Country Name']=='Nigeria']\n",
    "Senegal=fossils[fossils['Country Name']=='Senegal']\n",
    "South_Africa=fossils[fossils['Country Name']=='South Africa']\n",
    "South_Sudan=fossils[fossils['Country Name']=='South Sudan']"
   ]
  },
  {
   "cell_type": "markdown",
   "id": "152cae74",
   "metadata": {},
   "source": [
    "## Figures, Trends, and Analyses"
   ]
  },
  {
   "cell_type": "code",
   "execution_count": 17,
   "id": "660be952",
   "metadata": {},
   "outputs": [
    {
     "data": {
      "image/png": "[encoded data removed]",
      "text/plain": [
       "<Figure size 576x432 with 1 Axes>"
      ]
     },
     "metadata": {
      "needs_background": "light"
     },
     "output_type": "display_data"
    }
   ],
   "source": [
    "plt.plot(Benin['year'], Benin['% fossil fuel'], label='Benin')\n",
    "plt.plot(Botswana['year'], Botswana['% fossil fuel'], label='Botswana')\n",
    "plt.plot(Cote_d_Ivoire['year'], Cote_d_Ivoire['% fossil fuel'], label=\"Cote d'Ivoire\")\n",
    "plt.plot(Eritrea['year'], Eritrea['% fossil fuel'], label='Eritrea')\n",
    "plt.plot(Mauritius['year'], Mauritius['% fossil fuel'], label='Mauritius')\n",
    "plt.plot(Niger['year'], Niger['% fossil fuel'], label='Niger')\n",
    "plt.plot(Nigeria['year'], Nigeria['% fossil fuel'], label='Nigeria')\n",
    "plt.plot(Senegal['year'], Senegal['% fossil fuel'], label='Senegal')\n",
    "plt.plot(South_Africa['year'], South_Africa['% fossil fuel'], label='South Africa')\n",
    "plt.plot(South_Sudan['year'], South_Sudan['% fossil fuel'], label='South Sudan')\n",
    "plt.legend(loc='center left', bbox_to_anchor=(1, 0.5))\n",
    "plt.xlabel('year')\n",
    "plt.ylabel('% fossils')\n",
    "plt.title('Top 10 Countries by Electricity Production from Fossil Sources (% of total)', fontdict={'fontsize':14})\n",
    "fig = plt.gcf()\n",
    "fig.set_size_inches(8,6)\n",
    "plt.show()"
   ]
  },
  {
   "cell_type": "markdown",
   "id": "a0f31d6e",
   "metadata": {},
   "source": [
    "##### Figure 1. Time series of top 10 SSA countries by electricity production from fossil fuels. (Wang, 2021)\n",
    "\n",
    "The figure shows top 10 countries in sub-Saharan Africa that generate their energy from fossil fuels (oil, gas, coal). This is calculated as a percentage of the total energy generated in each country. Our focus is on 2015 but the time series provides historical context. Multiple countries are at ~100% and the lowest recorded level of fossil-generated energy among top 10 countries between the 2009-2015 timespan is ~62% or two-thirds of total energy. \n"
   ]
  },
  {
   "cell_type": "code",
   "execution_count": 18,
   "id": "a85ebf3c",
   "metadata": {},
   "outputs": [],
   "source": [
    "#loading and transforming data for renewable energy\n",
    "renewables = pd.read_csv('/Users/aminrimdans/Downloads/wdi_data-5.csv',usecols=['Year','value','Country Name'])\n",
    "#renewables.info()\n",
    "renewables.rename(columns={'value':'% renewables','Year':'year'}, inplace=True)\n",
    "#renewables.head()"
   ]
  },
  {
   "cell_type": "code",
   "execution_count": 19,
   "id": "03837eed",
   "metadata": {},
   "outputs": [
    {
     "data": {
      "image/png": "[encoded data removed]",
      "text/plain": [
       "<Figure size 576x432 with 1 Axes>"
      ]
     },
     "metadata": {
      "needs_background": "light"
     },
     "output_type": "display_data"
    }
   ],
   "source": [
    "#filtering and plotting renewables data by country\n",
    "\n",
    "Benin=renewables[renewables['Country Name']=='Benin']\n",
    "Cameroon=renewables[renewables['Country Name']=='Cameroon']\n",
    "Cote_d_Ivoire=renewables[renewables['Country Name']==\"Cote d'Ivoire\"]\n",
    "Ethiopia=renewables[renewables['Country Name']=='Ethiopia']\n",
    "Kenya=renewables[renewables['Country Name']=='Kenya']\n",
    "Mauritius=renewables[renewables['Country Name']=='Mauritius']\n",
    "Senegal=renewables[renewables['Country Name']=='Senegal']\n",
    "South_Africa=renewables[renewables['Country Name']=='South Africa']\n",
    "Togo=renewables[renewables['Country Name']=='Togo']\n",
    "Zimbabwe=renewables[renewables['Country Name']=='Zimbabwe']\n",
    "\n",
    "plt.plot(Benin['year'], Benin['% renewables'], label='Benin')\n",
    "plt.plot(Cameroon['year'], Cameroon['% renewables'], label='Cameroon')\n",
    "plt.plot(Cote_d_Ivoire['year'], Cote_d_Ivoire['% renewables'], label=\"Cote d'Ivoire\")\n",
    "plt.plot(Ethiopia['year'], Ethiopia['% renewables'], label='Ethiopia')\n",
    "plt.plot(Kenya['year'], Kenya['% renewables'], label='Kenya')\n",
    "plt.plot(Mauritius['year'], Mauritius['% renewables'], label='Mauritius')\n",
    "plt.plot(Senegal['year'], Senegal['% renewables'], label='Senegal')\n",
    "plt.plot(South_Africa['year'], South_Africa['% renewables'], label='South Africa')\n",
    "plt.plot(Togo['year'], Togo['% renewables'], label='Togo')\n",
    "plt.plot(Zimbabwe['year'], Zimbabwe['% renewables'], label='Zimbabwe')\n",
    "plt.legend(loc='center left', bbox_to_anchor=(1, 0.5))\n",
    "plt.xlabel('year')\n",
    "plt.ylabel('% renewables')\n",
    "plt.title('Top 10 Countries by Electricity Production from Renewable Sources (% of total)', fontdict={'fontsize':14})\n",
    "fig = plt.gcf()\n",
    "fig.set_size_inches(8,6)\n",
    "plt.show()"
   ]
  },
  {
   "cell_type": "markdown",
   "id": "28a25ba9",
   "metadata": {},
   "source": [
    "##### Figure 2. Time series of top 10 SSA countries by electricity production from renewable energy (excluding hydroelectricity; Wang, 2021). \n",
    "\n",
    "Conversely to fig.1, this shows top 10 sub-Saharan countries with renewable energy outputs. Only two countries (Kenya and Mauritius) are above 10% in the 6-year period of interest. Every other country produces almost none of their electricity from renewable sources, not to mention tens of other SSA countries not represented in the top 10 category. Kenya is highest at 48.3%, also absent in top 10 fossil fuel countries in fig.1, which demonstrates tangible effort towards steering away from fossils. Nevertheless, Kenya is below 25% until 2013-2015, rising to 48.3% in 2015. Achieving half its generated electricity from renewables, Kenya shows striding progress and performed better than all European & Central Asian countries except Denmark (65.4%) in 2015.\n"
   ]
  },
  {
   "cell_type": "code",
   "execution_count": 20,
   "id": "1aabd21f",
   "metadata": {},
   "outputs": [
    {
     "data": {
      "image/png": "[encoded data removed]",
      "text/plain": [
       "<Figure size 648x360 with 1 Axes>"
      ]
     },
     "metadata": {
      "needs_background": "light"
     },
     "output_type": "display_data"
    }
   ],
   "source": [
    "#loading air pollution mortality data from different csv file; renamed and sorted columns; mortality column is float\n",
    "mortality = pd.read_csv('/Users/aminrimdans/Downloads/wdi_data-2.csv', usecols=['Country Name','value'],\n",
    "                       index_col='Country Name')\n",
    "mortality.rename(columns={'Country Name':'country', 'value':'mortality per 100,000 population'}, inplace=True)\n",
    "mortality = mortality.sort_values('mortality per 100,000 population', ascending=False)\n",
    "#mortality.info()\n",
    "\n",
    "\n",
    "#plotting mortality data\n",
    "mortality.plot.bar(title='Top 10 Countries by 2016 Mortality Rate Attributed to Household & Ambient Air Pollution',\n",
    "               ylabel='mortality per 100,000 population', figsize=(9,5), fontsize=11)\n",
    "plt.xticks(rotation=45)\n",
    "plt.show()"
   ]
  },
  {
   "cell_type": "markdown",
   "id": "8996b9c5",
   "metadata": {},
   "source": [
    "##### Figure 3. Bar chart of 2016 top 10 SSA countries with mortality attributed to air pollution (Wang, 2021).\n",
    "\n",
    "Fig.3 depicts SSA countries with the 10 highest mortality rates, per 100,000 population, caused by either household or ambient air pollution. The data is from year 2016, which is outside our period of interest, but is the only mortality data available closest to 2015 that fits the criteria of interest. Nevertheless, according to the US National Aeronautics and Space Administration (NASA), the lifetime of atmospheric CO2 ranges between 300 – 1,000 years, hence, the time difference between our period of interest and 2016 could be considered inconsequential (Alan Buis, NASA, 2019). Though renewable energy production is negligibly low in most countries in the region, based on this analysis, only two out of ten countries with notable air pollution mortality rates are found in fig.2. This 80% dissimilarity rate indicates there is a negative correlative relationship between renewable electricity production and mortality ensuing from air pollution. This inference is, however, not supported by the low correlation (30%) between fossil-generated electricity (fig.1) and mortality (fig.3). This is not surprising as other phenomena might contribute more heavily to air pollution in certain countries. Side note, less than a percent in grand scheme of population (for high-population countries like Nigeria) and much higher percentage for low-population countries like Guinea-Bissau. Notwithstanding, being that majority of the countries are considered underdeveloped, reported data could be drastically unrepresentative of actual mortality resulting from polluted air. \n"
   ]
  },
  {
   "cell_type": "code",
   "execution_count": 21,
   "id": "ecea9061",
   "metadata": {},
   "outputs": [
    {
     "data": {
      "image/png": "[encoded data removed]",
      "text/plain": [
       "<Figure size 576x432 with 1 Axes>"
      ]
     },
     "metadata": {
      "needs_background": "light"
     },
     "output_type": "display_data"
    }
   ],
   "source": [
    "#filtering out top 10 countries in 2015 for % fossil fuel rate\n",
    "twenty_fifteen=df[df['year']==2015]\n",
    "top_10_fossil=twenty_fifteen.nlargest(10,'% fossil fuel')\n",
    "\n",
    "\n",
    "#plotting top 10 fossil fuel data\n",
    "a=sns.regplot(x='GDP/capita ($)', y='CO2_emission (kt)', data=top_10_fossil)\n",
    "sns.set_theme(style='white')\n",
    "plt.title('GDP vs CO2 for Top 10 Countries by Electricity Production from Fossil Fuels (% of total)',\n",
    "          fontdict={'fontsize':14})\n",
    "a.figure.set_size_inches(8,6)\n",
    "plt.show()"
   ]
  },
  {
   "cell_type": "markdown",
   "id": "0547c87a",
   "metadata": {},
   "source": [
    "##### Figure 4. Scatterplot with trendline showing relationship between 2015 CO2 emissions and GDP per capita in top 10 SSA countries by CO2 emissions.\n",
    "\n",
    "Similar to fig.1, fig.4 uses the same top 10 SSA countries—whose electricity production is almost solely reliant on non-renewable energy—but employs a scatterplot and trendline to depict the relationship between carbon dioxide emissions and GDP per capita in 2015. A positive correlation is evident: as GDP per capita increases, carbon dioxide emissions increase. This is plausible being that GDP is the total worth of a country’s goods and services within a year and if a country produces more (higher GDP) and utilizes mostly fossil fuels to achieve such production, more carbon dioxide emissions can be expected. \n"
   ]
  },
  {
   "cell_type": "markdown",
   "id": "b71f9d8d",
   "metadata": {},
   "source": [
    "## Conclusion & Implications\n",
    "\n",
    "Sub-Saharan Africa is a densely populated region of the world that will be key in resolving our climate crsis. In fig.1 of this report, there is a cluster of countries around the 95-100% mark for electricity generation from fossil fuels. 5 of the top 10 countries in this category are between 97-100% while 80% of top countries producing their electricity from renewable energy in the region only do so at a rate of less than 10%. Botswana, Eritrea, South Sudan, and Niger all produced a large 99% of their electricity from fossil sources in 2015. Only Kenya produced 48% of its electricity from renewable sources, followed by Mauritius at a low 18%. As depicted in fig.3, our data shows a positive correlation between GDP per capita and CO2 emission. High CO2 can in turn cause increased mortality due to polluted ambient air. In summary, when compared with other countries making strides in renewable energy electricity generation who, in comparison, do not have resources unique to SSA (e.g. sunlight), it is clear that there is a gap in maximizing green energy potential in the world region that is home to 13% of our global population. This has the potential to drastically slow global efforts towards sustainability."
   ]
  },
  {
   "cell_type": "markdown",
   "id": "34aa0816",
   "metadata": {},
   "source": [
    "## References\n",
    "\n",
    "Alan Buis, NASA. (2019). The Atmosphere: Getting a Handle on Carbon Dioxide. Climate Change: Vital Signs of the Planet. https://climate.nasa.gov/news/2915/the-atmosphere-getting-a-handle-on-carbon-dioxide\n",
    "\n",
    "Baye, R. S., Olper, A., Ahenkan, A., Musah-Surugu, I. J., Anuga, S. W., & Darkwah, S. (2021). Renewable energy consumption in Africa: Evidence from a bias corrected dynamic panel. Science of The Total Environment, 766, 142583. https://doi.org/10.1016/j.scitotenv.2020.142583\n",
    "\n",
    "Marques, A. C., & Fuinhas, J. A. (2011). Drivers promoting renewable energy: A dynamic panel approach. Renewable and Sustainable Energy Reviews, 15(3), 1601–1608. https://doi.org/10.1016/j.rser.2010.11.048\n",
    "\n",
    "Mohammed, Y. S., Mustafa, M. W., & Bashir, N. (2013). Status of renewable energy consumption and developmental challenges in Sub-Sahara Africa. Renewable and Sustainable Energy Reviews, 27, 453–463. https://doi.org/10.1016/j.rser.2013.06.044\n",
    "\n",
    "Organization of the Petroleum Exporting Countries (OPEC). Annual Statistical Bulletin (ASB). https://www.opec.org/opec_web/en/about_us/167.htm\n",
    "\n",
    "Wang, C. (2021). The world development explorer. Available from http://www.worlddev.xyz\n"
   ]
  },
  {
   "cell_type": "code",
   "execution_count": null,
   "id": "96658e22",
   "metadata": {},
   "outputs": [],
   "source": []
  }
 ],
 "metadata": {
  "kernelspec": {
   "display_name": "Python 3",
   "language": "python",
   "name": "python3"
  },
  "language_info": {
   "codemirror_mode": {
    "name": "ipython",
    "version": 3
   },
   "file_extension": ".py",
   "mimetype": "text/x-python",
   "name": "python",
   "nbconvert_exporter": "python",
   "pygments_lexer": "ipython3",
   "version": "3.8.8"
  }
 },
 "nbformat": 4,
 "nbformat_minor": 5
}
